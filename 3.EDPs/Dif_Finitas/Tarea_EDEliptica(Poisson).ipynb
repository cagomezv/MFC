{
  "nbformat": 4,
  "nbformat_minor": 0,
  "metadata": {
    "colab": {
      "provenance": []
    },
    "kernelspec": {
      "name": "python3",
      "display_name": "Python 3"
    },
    "language_info": {
      "name": "python"
    }
  },
  "cells": [
    {
      "cell_type": "code",
      "execution_count": 14,
      "metadata": {
        "id": "XaGUv6i2IbWr"
      },
      "outputs": [],
      "source": [
        "import numpy as np\n",
        "import math\n",
        "import pandas as pd\n",
        "pd.options.display.max_rows = 999"
      ]
    },
    {
      "cell_type": "code",
      "metadata": {
        "id": "ZjRlzUhEEQGt"
      },
      "source": [
        "def EDPEliptica(m, n, a, b, c, d, f, g, sol_exacta=0):\n",
        "    \"\"\"\n",
        "    Ofrece una solución aproximación de u(x, y)\n",
        "\n",
        "    Args:\n",
        "        m: (int) Número de rectas horizontales del mallado\n",
        "        n: (int) Número de rectas verticales del mallado\n",
        "        a: (float) Extremo izquierdo del intervalo [a, b]\n",
        "        b: (float) Extremo derecho del intervalo [a, b]\n",
        "        c: (float) Extremo izquierdo del intervalo [c, d]\n",
        "        d: (float) Extremo derecho del intervalo [c, d]\n",
        "        f: (fun) Función f(x, y)\n",
        "        g: (fun) Función g(x, y)\n",
        "        sol_exacta: (fun) Función para definir la solución exacta\n",
        "\n",
        "    Returns:\n",
        "        u: (ndarray) Aproximaciones de u(x, y)\n",
        "    \"\"\"\n",
        "\n",
        "    # Hallamos los pasos para x y para y\n",
        "    h = (b - a) / n\n",
        "    k = (d - c) / m\n",
        "\n",
        "\n",
        "    print(\"h =\", h)\n",
        "    print(\"k =\", k)\n",
        "\n",
        "    x = np.zeros(n)\n",
        "    y = np.zeros(m)\n",
        "\n",
        "    for i in range(n):\n",
        "        x[i] = a + (i + 1) * h\n",
        "\n",
        "    for j in range(m):\n",
        "        y[j] = c + (j + 1) * k\n",
        "\n",
        "\n",
        "    print(\"\\n x =\", x)\n",
        "    print(\"y =\", y)\n",
        "\n",
        "\n",
        "    Lambda = math.pow(h, 2)/math.pow(k, 2)\n",
        "    mu = 2 * (1 + Lambda)\n",
        "\n",
        "    print(\"\\nlambda =\", Lambda)\n",
        "    print(\"mu =\", mu)\n",
        "\n",
        "    A = np.zeros(((n - 1) * (m - 1), (n - 1) * (m - 1)))\n",
        "    B = np.zeros((n - 1) * (m - 1))\n",
        "\n",
        "    for l in range(1, (n - 1) * (m - 1) + 1):\n",
        "        i = l - (math.ceil(l / (n - 1)) - 1) * (n - 1)\n",
        "        j = m - math.ceil(l / (n - 1))\n",
        "\n",
        "        B[l - 1] = -math.pow(h, 2) * f(x[i - 1], y[j - 1])\n",
        "        A[l - 1, l - 1] = mu\n",
        "\n",
        "        if (i - 1) >= 1:\n",
        "            A[l - 1, l - 2] = -1\n",
        "        if (i + 1) <= n - 1:\n",
        "            A[l - 1, l] = -1\n",
        "        if (j - 1) >= 1:\n",
        "            A[l - 1, l + (n - 1) - 1] = -Lambda\n",
        "        if (j + 1) <= m - 1:\n",
        "            A[l - 1, l - (n - 1) - 1] = -Lambda\n",
        "        if i == 1:\n",
        "            B[l - 1] += g(a, y[j - 1])\n",
        "        if i == n - 1:\n",
        "            B[l - 1] += g(b, y[j - 1])\n",
        "        if j == 1:\n",
        "            B[l - 1] += Lambda * g(x[i - 1], c)\n",
        "        if j ==  m - 1:\n",
        "            B[l - 1] += Lambda * g(x[i - 1], d)\n",
        "\n",
        "\n",
        "    print(\"\\n A =\\n{}\".format(A))\n",
        "    print(\"b =\\n{}\".format(B))\n",
        "\n",
        "    u = np.linalg.solve(A, B)\n",
        "    error = np.zeros_like(u, dtype = float)\n",
        "    u_exacta = np.zeros_like(u,dtype = float)\n",
        "    coor_x = np.zeros_like(u, dtype = float)\n",
        "    coor_y = np.zeros_like(u, dtype = float)\n",
        "\n",
        "    k=0\n",
        "    for y in np.array([c + (d - c) / m * i for i in range(m-1, 0,-1)]):\n",
        "        for x in np.array([a + (b - a) / n * j for j in range(1, n)]):\n",
        "            coor_x[k] = x\n",
        "            coor_y[k] = y\n",
        "            u_exacta[k] = sol_exacta(x,y)\n",
        "            error[k]=(u_exacta[k]-u[k])\n",
        "            k=k+1\n",
        "\n",
        "    resultados = pd.DataFrame({\"x\":coor_x, \"y\":coor_y, \"u\": u, \"u exacta\": u_exacta, \"error\":error})\n",
        "\n",
        "    print(resultados)\n",
        "\n",
        "    return u"
      ],
      "execution_count": 15,
      "outputs": []
    },
    {
      "cell_type": "code",
      "source": [
        "a, b, c, d = 0, 0.5, 0, 0.5\n",
        "n, m = 100, 100\n",
        "\n",
        "def f(x, y):\n",
        "    return 0\n",
        "\n",
        "def g(x, y):\n",
        "    if x == 0 or y == 0:\n",
        "        return 0\n",
        "    if x == 0.5:\n",
        "        return 200 * y\n",
        "    if y == 0.5:\n",
        "        return 200 * x\n",
        "\n",
        "def sol_exacta(x,y):\n",
        "    return 0"
      ],
      "metadata": {
        "id": "T0Am40XsJiH1"
      },
      "execution_count": 19,
      "outputs": []
    },
    {
      "cell_type": "code",
      "source": [
        "u=EDPEliptica(m, n, a, b, c, d, f, g, sol_exacta)"
      ],
      "metadata": {
        "colab": {
          "base_uri": "https://localhost:8080/"
        },
        "id": "xBIDcatfMc-q",
        "outputId": "efdae35a-2c9a-4c1a-ec3d-c6f8d6e06a0c"
      },
      "execution_count": null,
      "outputs": [
        {
          "output_type": "stream",
          "name": "stdout",
          "text": [
            "h = 0.005\n",
            "k = 0.005\n",
            "\n",
            " x = [0.005 0.01  0.015 0.02  0.025 0.03  0.035 0.04  0.045 0.05  0.055 0.06\n",
            " 0.065 0.07  0.075 0.08  0.085 0.09  0.095 0.1   0.105 0.11  0.115 0.12\n",
            " 0.125 0.13  0.135 0.14  0.145 0.15  0.155 0.16  0.165 0.17  0.175 0.18\n",
            " 0.185 0.19  0.195 0.2   0.205 0.21  0.215 0.22  0.225 0.23  0.235 0.24\n",
            " 0.245 0.25  0.255 0.26  0.265 0.27  0.275 0.28  0.285 0.29  0.295 0.3\n",
            " 0.305 0.31  0.315 0.32  0.325 0.33  0.335 0.34  0.345 0.35  0.355 0.36\n",
            " 0.365 0.37  0.375 0.38  0.385 0.39  0.395 0.4   0.405 0.41  0.415 0.42\n",
            " 0.425 0.43  0.435 0.44  0.445 0.45  0.455 0.46  0.465 0.47  0.475 0.48\n",
            " 0.485 0.49  0.495 0.5  ]\n",
            "y = [0.005 0.01  0.015 0.02  0.025 0.03  0.035 0.04  0.045 0.05  0.055 0.06\n",
            " 0.065 0.07  0.075 0.08  0.085 0.09  0.095 0.1   0.105 0.11  0.115 0.12\n",
            " 0.125 0.13  0.135 0.14  0.145 0.15  0.155 0.16  0.165 0.17  0.175 0.18\n",
            " 0.185 0.19  0.195 0.2   0.205 0.21  0.215 0.22  0.225 0.23  0.235 0.24\n",
            " 0.245 0.25  0.255 0.26  0.265 0.27  0.275 0.28  0.285 0.29  0.295 0.3\n",
            " 0.305 0.31  0.315 0.32  0.325 0.33  0.335 0.34  0.345 0.35  0.355 0.36\n",
            " 0.365 0.37  0.375 0.38  0.385 0.39  0.395 0.4   0.405 0.41  0.415 0.42\n",
            " 0.425 0.43  0.435 0.44  0.445 0.45  0.455 0.46  0.465 0.47  0.475 0.48\n",
            " 0.485 0.49  0.495 0.5  ]\n",
            "\n",
            "lambda = 1.0\n",
            "mu = 4.0\n",
            "\n",
            " A =\n",
            "[[ 4. -1.  0. ...  0.  0.  0.]\n",
            " [-1.  4. -1. ...  0.  0.  0.]\n",
            " [ 0. -1.  4. ...  0.  0.  0.]\n",
            " ...\n",
            " [ 0.  0.  0. ...  4. -1.  0.]\n",
            " [ 0.  0.  0. ... -1.  4. -1.]\n",
            " [ 0.  0.  0. ...  0. -1.  4.]]\n",
            "b =\n",
            "[1. 2. 3. ... 0. 0. 1.]\n"
          ]
        }
      ]
    },
    {
      "cell_type": "code",
      "source": [],
      "metadata": {
        "id": "YOZB4zYPMmNv"
      },
      "execution_count": null,
      "outputs": []
    }
  ]
}