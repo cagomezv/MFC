{
  "cells": [
    {
      "cell_type": "markdown",
      "id": "0ff51890-9dff-480d-b6a5-22c9e08a8863",
      "metadata": {
        "id": "0ff51890-9dff-480d-b6a5-22c9e08a8863"
      },
      "source": [
        "# Red Neuronal Profundas"
      ]
    },
    {
      "cell_type": "markdown",
      "id": "17784151-2dd6-4333-b1cc-3ffd4144ff78",
      "metadata": {
        "id": "17784151-2dd6-4333-b1cc-3ffd4144ff78"
      },
      "source": [
        "## <span style=\"color:green\">1.Mejorar el modelo para CIFAR10 </span>\n"
      ]
    },
    {
      "cell_type": "markdown",
      "id": "edf49f49-e61c-4ba6-93bd-17afac154530",
      "metadata": {
        "id": "edf49f49-e61c-4ba6-93bd-17afac154530"
      },
      "source": [
        "### <span style=\"color:blue\">1.1 Importa las librerías relevantes</span>\n",
        "Tensorflow, numpy, os, matplotlib, pyplot, pandas"
      ]
    },
    {
      "cell_type": "code",
      "execution_count": null,
      "id": "f7660c1e-a6a8-485e-bdd1-9ec2c5ed0230",
      "metadata": {
        "id": "f7660c1e-a6a8-485e-bdd1-9ec2c5ed0230"
      },
      "outputs": [],
      "source": [
        "import tensorflow as tf\n",
        "import matplotlib as mpl\n",
        "import matplotlib.pyplot as plt"
      ]
    },
    {
      "cell_type": "code",
      "execution_count": null,
      "id": "7c575e82-15a3-4ca3-b9ce-bfa9c43332a6",
      "metadata": {
        "id": "7c575e82-15a3-4ca3-b9ce-bfa9c43332a6"
      },
      "outputs": [],
      "source": [
        "import numpy as np\n",
        "import pandas as pd"
      ]
    },
    {
      "cell_type": "code",
      "execution_count": null,
      "id": "f9c80f04-bbee-462d-b599-c64a0317a451",
      "metadata": {
        "id": "f9c80f04-bbee-462d-b599-c64a0317a451"
      },
      "outputs": [],
      "source": [
        "from tensorflow import keras"
      ]
    },
    {
      "cell_type": "code",
      "execution_count": null,
      "id": "a49d7930-1ea3-4c54-a711-591e8f424f84",
      "metadata": {
        "id": "a49d7930-1ea3-4c54-a711-591e8f424f84"
      },
      "outputs": [],
      "source": [
        "import os"
      ]
    },
    {
      "cell_type": "markdown",
      "id": "7e226e09-bf69-4624-b589-2d14fcaeb1a5",
      "metadata": {
        "id": "7e226e09-bf69-4624-b589-2d14fcaeb1a5"
      },
      "source": [
        "### 1.-\n",
        "_Construye un DNN con 20 capas escondidas de 100 neuronas cada una._"
      ]
    },
    {
      "cell_type": "code",
      "execution_count": null,
      "id": "81309198-3f24-40ff-b241-f83683b9d906",
      "metadata": {
        "id": "81309198-3f24-40ff-b241-f83683b9d906",
        "colab": {
          "base_uri": "https://localhost:8080/"
        },
        "outputId": "7d345f3e-8aaf-4993-bf31-64477f14d273"
      },
      "outputs": [
        {
          "output_type": "stream",
          "name": "stdout",
          "text": [
            "Downloading data from https://www.cs.toronto.edu/~kriz/cifar-10-python.tar.gz\n",
            "\u001b[1m170498071/170498071\u001b[0m \u001b[32m━━━━━━━━━━━━━━━━━━━━\u001b[0m\u001b[37m\u001b[0m \u001b[1m4s\u001b[0m 0us/step\n"
          ]
        }
      ],
      "source": [
        "# Cargamos CIFAR10\n",
        "(X_entrena_completo, y_entrena_completo), (X_test,y_test) = keras.datasets.cifar10.load_data()"
      ]
    },
    {
      "cell_type": "code",
      "execution_count": null,
      "id": "62502583-6e29-4ca3-a1ec-d2bdb123d5a7",
      "metadata": {
        "id": "62502583-6e29-4ca3-a1ec-d2bdb123d5a7"
      },
      "outputs": [],
      "source": [
        "#Semillas a 42\n",
        "tf.random.set_seed(42)\n",
        "np.random.seed(42)"
      ]
    },
    {
      "cell_type": "code",
      "execution_count": null,
      "id": "fbeb4a96-7be2-4f63-9542-ee62b40e7692",
      "metadata": {
        "id": "fbeb4a96-7be2-4f63-9542-ee62b40e7692",
        "colab": {
          "base_uri": "https://localhost:8080/"
        },
        "outputId": "eabd5467-0aac-4041-e0b7-36d7224615cb"
      },
      "outputs": [
        {
          "output_type": "stream",
          "name": "stderr",
          "text": [
            "/usr/local/lib/python3.12/dist-packages/keras/src/layers/reshaping/flatten.py:37: UserWarning: Do not pass an `input_shape`/`input_dim` argument to a layer. When using Sequential models, prefer using an `Input(shape)` object as the first layer in the model instead.\n",
            "  super().__init__(**kwargs)\n"
          ]
        }
      ],
      "source": [
        "#Arma el modelo secuencial\n",
        "model = keras.models.Sequential()\n",
        "model.add(keras.layers.Flatten(input_shape=[32,32,3]))\n",
        "for _ in range(20):\n",
        "    model.add(keras.layers.Dense(100,activation=\"relu\"))\n",
        "\n",
        "model.add(keras.layers.Dense(10,activation=\"softmax\"))"
      ]
    },
    {
      "cell_type": "code",
      "execution_count": null,
      "id": "b308ca9f-2429-48a8-a236-716fe2553699",
      "metadata": {
        "id": "b308ca9f-2429-48a8-a236-716fe2553699",
        "outputId": "24a3f269-4f7e-4503-c709-5ea1ba31ca32",
        "colab": {
          "base_uri": "https://localhost:8080/",
          "height": 833
        }
      },
      "outputs": [
        {
          "output_type": "display_data",
          "data": {
            "text/plain": [
              "\u001b[1mModel: \"sequential\"\u001b[0m\n"
            ],
            "text/html": [
              "<pre style=\"white-space:pre;overflow-x:auto;line-height:normal;font-family:Menlo,'DejaVu Sans Mono',consolas,'Courier New',monospace\"><span style=\"font-weight: bold\">Model: \"sequential\"</span>\n",
              "</pre>\n"
            ]
          },
          "metadata": {}
        },
        {
          "output_type": "display_data",
          "data": {
            "text/plain": [
              "┏━━━━━━━━━━━━━━━━━━━━━━━━━━━━━━━━━┳━━━━━━━━━━━━━━━━━━━━━━━━┳━━━━━━━━━━━━━━━┓\n",
              "┃\u001b[1m \u001b[0m\u001b[1mLayer (type)                   \u001b[0m\u001b[1m \u001b[0m┃\u001b[1m \u001b[0m\u001b[1mOutput Shape          \u001b[0m\u001b[1m \u001b[0m┃\u001b[1m \u001b[0m\u001b[1m      Param #\u001b[0m\u001b[1m \u001b[0m┃\n",
              "┡━━━━━━━━━━━━━━━━━━━━━━━━━━━━━━━━━╇━━━━━━━━━━━━━━━━━━━━━━━━╇━━━━━━━━━━━━━━━┩\n",
              "│ flatten (\u001b[38;5;33mFlatten\u001b[0m)               │ (\u001b[38;5;45mNone\u001b[0m, \u001b[38;5;34m3072\u001b[0m)           │             \u001b[38;5;34m0\u001b[0m │\n",
              "├─────────────────────────────────┼────────────────────────┼───────────────┤\n",
              "│ dense (\u001b[38;5;33mDense\u001b[0m)                   │ (\u001b[38;5;45mNone\u001b[0m, \u001b[38;5;34m100\u001b[0m)            │       \u001b[38;5;34m307,300\u001b[0m │\n",
              "├─────────────────────────────────┼────────────────────────┼───────────────┤\n",
              "│ dense_1 (\u001b[38;5;33mDense\u001b[0m)                 │ (\u001b[38;5;45mNone\u001b[0m, \u001b[38;5;34m100\u001b[0m)            │        \u001b[38;5;34m10,100\u001b[0m │\n",
              "├─────────────────────────────────┼────────────────────────┼───────────────┤\n",
              "│ dense_2 (\u001b[38;5;33mDense\u001b[0m)                 │ (\u001b[38;5;45mNone\u001b[0m, \u001b[38;5;34m100\u001b[0m)            │        \u001b[38;5;34m10,100\u001b[0m │\n",
              "├─────────────────────────────────┼────────────────────────┼───────────────┤\n",
              "│ dense_3 (\u001b[38;5;33mDense\u001b[0m)                 │ (\u001b[38;5;45mNone\u001b[0m, \u001b[38;5;34m100\u001b[0m)            │        \u001b[38;5;34m10,100\u001b[0m │\n",
              "├─────────────────────────────────┼────────────────────────┼───────────────┤\n",
              "│ dense_4 (\u001b[38;5;33mDense\u001b[0m)                 │ (\u001b[38;5;45mNone\u001b[0m, \u001b[38;5;34m100\u001b[0m)            │        \u001b[38;5;34m10,100\u001b[0m │\n",
              "├─────────────────────────────────┼────────────────────────┼───────────────┤\n",
              "│ dense_5 (\u001b[38;5;33mDense\u001b[0m)                 │ (\u001b[38;5;45mNone\u001b[0m, \u001b[38;5;34m100\u001b[0m)            │        \u001b[38;5;34m10,100\u001b[0m │\n",
              "├─────────────────────────────────┼────────────────────────┼───────────────┤\n",
              "│ dense_6 (\u001b[38;5;33mDense\u001b[0m)                 │ (\u001b[38;5;45mNone\u001b[0m, \u001b[38;5;34m100\u001b[0m)            │        \u001b[38;5;34m10,100\u001b[0m │\n",
              "├─────────────────────────────────┼────────────────────────┼───────────────┤\n",
              "│ dense_7 (\u001b[38;5;33mDense\u001b[0m)                 │ (\u001b[38;5;45mNone\u001b[0m, \u001b[38;5;34m100\u001b[0m)            │        \u001b[38;5;34m10,100\u001b[0m │\n",
              "├─────────────────────────────────┼────────────────────────┼───────────────┤\n",
              "│ dense_8 (\u001b[38;5;33mDense\u001b[0m)                 │ (\u001b[38;5;45mNone\u001b[0m, \u001b[38;5;34m100\u001b[0m)            │        \u001b[38;5;34m10,100\u001b[0m │\n",
              "├─────────────────────────────────┼────────────────────────┼───────────────┤\n",
              "│ dense_9 (\u001b[38;5;33mDense\u001b[0m)                 │ (\u001b[38;5;45mNone\u001b[0m, \u001b[38;5;34m100\u001b[0m)            │        \u001b[38;5;34m10,100\u001b[0m │\n",
              "├─────────────────────────────────┼────────────────────────┼───────────────┤\n",
              "│ dense_10 (\u001b[38;5;33mDense\u001b[0m)                │ (\u001b[38;5;45mNone\u001b[0m, \u001b[38;5;34m100\u001b[0m)            │        \u001b[38;5;34m10,100\u001b[0m │\n",
              "├─────────────────────────────────┼────────────────────────┼───────────────┤\n",
              "│ dense_11 (\u001b[38;5;33mDense\u001b[0m)                │ (\u001b[38;5;45mNone\u001b[0m, \u001b[38;5;34m100\u001b[0m)            │        \u001b[38;5;34m10,100\u001b[0m │\n",
              "├─────────────────────────────────┼────────────────────────┼───────────────┤\n",
              "│ dense_12 (\u001b[38;5;33mDense\u001b[0m)                │ (\u001b[38;5;45mNone\u001b[0m, \u001b[38;5;34m100\u001b[0m)            │        \u001b[38;5;34m10,100\u001b[0m │\n",
              "├─────────────────────────────────┼────────────────────────┼───────────────┤\n",
              "│ dense_13 (\u001b[38;5;33mDense\u001b[0m)                │ (\u001b[38;5;45mNone\u001b[0m, \u001b[38;5;34m100\u001b[0m)            │        \u001b[38;5;34m10,100\u001b[0m │\n",
              "├─────────────────────────────────┼────────────────────────┼───────────────┤\n",
              "│ dense_14 (\u001b[38;5;33mDense\u001b[0m)                │ (\u001b[38;5;45mNone\u001b[0m, \u001b[38;5;34m100\u001b[0m)            │        \u001b[38;5;34m10,100\u001b[0m │\n",
              "├─────────────────────────────────┼────────────────────────┼───────────────┤\n",
              "│ dense_15 (\u001b[38;5;33mDense\u001b[0m)                │ (\u001b[38;5;45mNone\u001b[0m, \u001b[38;5;34m100\u001b[0m)            │        \u001b[38;5;34m10,100\u001b[0m │\n",
              "├─────────────────────────────────┼────────────────────────┼───────────────┤\n",
              "│ dense_16 (\u001b[38;5;33mDense\u001b[0m)                │ (\u001b[38;5;45mNone\u001b[0m, \u001b[38;5;34m100\u001b[0m)            │        \u001b[38;5;34m10,100\u001b[0m │\n",
              "├─────────────────────────────────┼────────────────────────┼───────────────┤\n",
              "│ dense_17 (\u001b[38;5;33mDense\u001b[0m)                │ (\u001b[38;5;45mNone\u001b[0m, \u001b[38;5;34m100\u001b[0m)            │        \u001b[38;5;34m10,100\u001b[0m │\n",
              "├─────────────────────────────────┼────────────────────────┼───────────────┤\n",
              "│ dense_18 (\u001b[38;5;33mDense\u001b[0m)                │ (\u001b[38;5;45mNone\u001b[0m, \u001b[38;5;34m100\u001b[0m)            │        \u001b[38;5;34m10,100\u001b[0m │\n",
              "├─────────────────────────────────┼────────────────────────┼───────────────┤\n",
              "│ dense_19 (\u001b[38;5;33mDense\u001b[0m)                │ (\u001b[38;5;45mNone\u001b[0m, \u001b[38;5;34m100\u001b[0m)            │        \u001b[38;5;34m10,100\u001b[0m │\n",
              "├─────────────────────────────────┼────────────────────────┼───────────────┤\n",
              "│ dense_20 (\u001b[38;5;33mDense\u001b[0m)                │ (\u001b[38;5;45mNone\u001b[0m, \u001b[38;5;34m10\u001b[0m)             │         \u001b[38;5;34m1,010\u001b[0m │\n",
              "└─────────────────────────────────┴────────────────────────┴───────────────┘\n"
            ],
            "text/html": [
              "<pre style=\"white-space:pre;overflow-x:auto;line-height:normal;font-family:Menlo,'DejaVu Sans Mono',consolas,'Courier New',monospace\">┏━━━━━━━━━━━━━━━━━━━━━━━━━━━━━━━━━┳━━━━━━━━━━━━━━━━━━━━━━━━┳━━━━━━━━━━━━━━━┓\n",
              "┃<span style=\"font-weight: bold\"> Layer (type)                    </span>┃<span style=\"font-weight: bold\"> Output Shape           </span>┃<span style=\"font-weight: bold\">       Param # </span>┃\n",
              "┡━━━━━━━━━━━━━━━━━━━━━━━━━━━━━━━━━╇━━━━━━━━━━━━━━━━━━━━━━━━╇━━━━━━━━━━━━━━━┩\n",
              "│ flatten (<span style=\"color: #0087ff; text-decoration-color: #0087ff\">Flatten</span>)               │ (<span style=\"color: #00d7ff; text-decoration-color: #00d7ff\">None</span>, <span style=\"color: #00af00; text-decoration-color: #00af00\">3072</span>)           │             <span style=\"color: #00af00; text-decoration-color: #00af00\">0</span> │\n",
              "├─────────────────────────────────┼────────────────────────┼───────────────┤\n",
              "│ dense (<span style=\"color: #0087ff; text-decoration-color: #0087ff\">Dense</span>)                   │ (<span style=\"color: #00d7ff; text-decoration-color: #00d7ff\">None</span>, <span style=\"color: #00af00; text-decoration-color: #00af00\">100</span>)            │       <span style=\"color: #00af00; text-decoration-color: #00af00\">307,300</span> │\n",
              "├─────────────────────────────────┼────────────────────────┼───────────────┤\n",
              "│ dense_1 (<span style=\"color: #0087ff; text-decoration-color: #0087ff\">Dense</span>)                 │ (<span style=\"color: #00d7ff; text-decoration-color: #00d7ff\">None</span>, <span style=\"color: #00af00; text-decoration-color: #00af00\">100</span>)            │        <span style=\"color: #00af00; text-decoration-color: #00af00\">10,100</span> │\n",
              "├─────────────────────────────────┼────────────────────────┼───────────────┤\n",
              "│ dense_2 (<span style=\"color: #0087ff; text-decoration-color: #0087ff\">Dense</span>)                 │ (<span style=\"color: #00d7ff; text-decoration-color: #00d7ff\">None</span>, <span style=\"color: #00af00; text-decoration-color: #00af00\">100</span>)            │        <span style=\"color: #00af00; text-decoration-color: #00af00\">10,100</span> │\n",
              "├─────────────────────────────────┼────────────────────────┼───────────────┤\n",
              "│ dense_3 (<span style=\"color: #0087ff; text-decoration-color: #0087ff\">Dense</span>)                 │ (<span style=\"color: #00d7ff; text-decoration-color: #00d7ff\">None</span>, <span style=\"color: #00af00; text-decoration-color: #00af00\">100</span>)            │        <span style=\"color: #00af00; text-decoration-color: #00af00\">10,100</span> │\n",
              "├─────────────────────────────────┼────────────────────────┼───────────────┤\n",
              "│ dense_4 (<span style=\"color: #0087ff; text-decoration-color: #0087ff\">Dense</span>)                 │ (<span style=\"color: #00d7ff; text-decoration-color: #00d7ff\">None</span>, <span style=\"color: #00af00; text-decoration-color: #00af00\">100</span>)            │        <span style=\"color: #00af00; text-decoration-color: #00af00\">10,100</span> │\n",
              "├─────────────────────────────────┼────────────────────────┼───────────────┤\n",
              "│ dense_5 (<span style=\"color: #0087ff; text-decoration-color: #0087ff\">Dense</span>)                 │ (<span style=\"color: #00d7ff; text-decoration-color: #00d7ff\">None</span>, <span style=\"color: #00af00; text-decoration-color: #00af00\">100</span>)            │        <span style=\"color: #00af00; text-decoration-color: #00af00\">10,100</span> │\n",
              "├─────────────────────────────────┼────────────────────────┼───────────────┤\n",
              "│ dense_6 (<span style=\"color: #0087ff; text-decoration-color: #0087ff\">Dense</span>)                 │ (<span style=\"color: #00d7ff; text-decoration-color: #00d7ff\">None</span>, <span style=\"color: #00af00; text-decoration-color: #00af00\">100</span>)            │        <span style=\"color: #00af00; text-decoration-color: #00af00\">10,100</span> │\n",
              "├─────────────────────────────────┼────────────────────────┼───────────────┤\n",
              "│ dense_7 (<span style=\"color: #0087ff; text-decoration-color: #0087ff\">Dense</span>)                 │ (<span style=\"color: #00d7ff; text-decoration-color: #00d7ff\">None</span>, <span style=\"color: #00af00; text-decoration-color: #00af00\">100</span>)            │        <span style=\"color: #00af00; text-decoration-color: #00af00\">10,100</span> │\n",
              "├─────────────────────────────────┼────────────────────────┼───────────────┤\n",
              "│ dense_8 (<span style=\"color: #0087ff; text-decoration-color: #0087ff\">Dense</span>)                 │ (<span style=\"color: #00d7ff; text-decoration-color: #00d7ff\">None</span>, <span style=\"color: #00af00; text-decoration-color: #00af00\">100</span>)            │        <span style=\"color: #00af00; text-decoration-color: #00af00\">10,100</span> │\n",
              "├─────────────────────────────────┼────────────────────────┼───────────────┤\n",
              "│ dense_9 (<span style=\"color: #0087ff; text-decoration-color: #0087ff\">Dense</span>)                 │ (<span style=\"color: #00d7ff; text-decoration-color: #00d7ff\">None</span>, <span style=\"color: #00af00; text-decoration-color: #00af00\">100</span>)            │        <span style=\"color: #00af00; text-decoration-color: #00af00\">10,100</span> │\n",
              "├─────────────────────────────────┼────────────────────────┼───────────────┤\n",
              "│ dense_10 (<span style=\"color: #0087ff; text-decoration-color: #0087ff\">Dense</span>)                │ (<span style=\"color: #00d7ff; text-decoration-color: #00d7ff\">None</span>, <span style=\"color: #00af00; text-decoration-color: #00af00\">100</span>)            │        <span style=\"color: #00af00; text-decoration-color: #00af00\">10,100</span> │\n",
              "├─────────────────────────────────┼────────────────────────┼───────────────┤\n",
              "│ dense_11 (<span style=\"color: #0087ff; text-decoration-color: #0087ff\">Dense</span>)                │ (<span style=\"color: #00d7ff; text-decoration-color: #00d7ff\">None</span>, <span style=\"color: #00af00; text-decoration-color: #00af00\">100</span>)            │        <span style=\"color: #00af00; text-decoration-color: #00af00\">10,100</span> │\n",
              "├─────────────────────────────────┼────────────────────────┼───────────────┤\n",
              "│ dense_12 (<span style=\"color: #0087ff; text-decoration-color: #0087ff\">Dense</span>)                │ (<span style=\"color: #00d7ff; text-decoration-color: #00d7ff\">None</span>, <span style=\"color: #00af00; text-decoration-color: #00af00\">100</span>)            │        <span style=\"color: #00af00; text-decoration-color: #00af00\">10,100</span> │\n",
              "├─────────────────────────────────┼────────────────────────┼───────────────┤\n",
              "│ dense_13 (<span style=\"color: #0087ff; text-decoration-color: #0087ff\">Dense</span>)                │ (<span style=\"color: #00d7ff; text-decoration-color: #00d7ff\">None</span>, <span style=\"color: #00af00; text-decoration-color: #00af00\">100</span>)            │        <span style=\"color: #00af00; text-decoration-color: #00af00\">10,100</span> │\n",
              "├─────────────────────────────────┼────────────────────────┼───────────────┤\n",
              "│ dense_14 (<span style=\"color: #0087ff; text-decoration-color: #0087ff\">Dense</span>)                │ (<span style=\"color: #00d7ff; text-decoration-color: #00d7ff\">None</span>, <span style=\"color: #00af00; text-decoration-color: #00af00\">100</span>)            │        <span style=\"color: #00af00; text-decoration-color: #00af00\">10,100</span> │\n",
              "├─────────────────────────────────┼────────────────────────┼───────────────┤\n",
              "│ dense_15 (<span style=\"color: #0087ff; text-decoration-color: #0087ff\">Dense</span>)                │ (<span style=\"color: #00d7ff; text-decoration-color: #00d7ff\">None</span>, <span style=\"color: #00af00; text-decoration-color: #00af00\">100</span>)            │        <span style=\"color: #00af00; text-decoration-color: #00af00\">10,100</span> │\n",
              "├─────────────────────────────────┼────────────────────────┼───────────────┤\n",
              "│ dense_16 (<span style=\"color: #0087ff; text-decoration-color: #0087ff\">Dense</span>)                │ (<span style=\"color: #00d7ff; text-decoration-color: #00d7ff\">None</span>, <span style=\"color: #00af00; text-decoration-color: #00af00\">100</span>)            │        <span style=\"color: #00af00; text-decoration-color: #00af00\">10,100</span> │\n",
              "├─────────────────────────────────┼────────────────────────┼───────────────┤\n",
              "│ dense_17 (<span style=\"color: #0087ff; text-decoration-color: #0087ff\">Dense</span>)                │ (<span style=\"color: #00d7ff; text-decoration-color: #00d7ff\">None</span>, <span style=\"color: #00af00; text-decoration-color: #00af00\">100</span>)            │        <span style=\"color: #00af00; text-decoration-color: #00af00\">10,100</span> │\n",
              "├─────────────────────────────────┼────────────────────────┼───────────────┤\n",
              "│ dense_18 (<span style=\"color: #0087ff; text-decoration-color: #0087ff\">Dense</span>)                │ (<span style=\"color: #00d7ff; text-decoration-color: #00d7ff\">None</span>, <span style=\"color: #00af00; text-decoration-color: #00af00\">100</span>)            │        <span style=\"color: #00af00; text-decoration-color: #00af00\">10,100</span> │\n",
              "├─────────────────────────────────┼────────────────────────┼───────────────┤\n",
              "│ dense_19 (<span style=\"color: #0087ff; text-decoration-color: #0087ff\">Dense</span>)                │ (<span style=\"color: #00d7ff; text-decoration-color: #00d7ff\">None</span>, <span style=\"color: #00af00; text-decoration-color: #00af00\">100</span>)            │        <span style=\"color: #00af00; text-decoration-color: #00af00\">10,100</span> │\n",
              "├─────────────────────────────────┼────────────────────────┼───────────────┤\n",
              "│ dense_20 (<span style=\"color: #0087ff; text-decoration-color: #0087ff\">Dense</span>)                │ (<span style=\"color: #00d7ff; text-decoration-color: #00d7ff\">None</span>, <span style=\"color: #00af00; text-decoration-color: #00af00\">10</span>)             │         <span style=\"color: #00af00; text-decoration-color: #00af00\">1,010</span> │\n",
              "└─────────────────────────────────┴────────────────────────┴───────────────┘\n",
              "</pre>\n"
            ]
          },
          "metadata": {}
        },
        {
          "output_type": "display_data",
          "data": {
            "text/plain": [
              "\u001b[1m Total params: \u001b[0m\u001b[38;5;34m500,210\u001b[0m (1.91 MB)\n"
            ],
            "text/html": [
              "<pre style=\"white-space:pre;overflow-x:auto;line-height:normal;font-family:Menlo,'DejaVu Sans Mono',consolas,'Courier New',monospace\"><span style=\"font-weight: bold\"> Total params: </span><span style=\"color: #00af00; text-decoration-color: #00af00\">500,210</span> (1.91 MB)\n",
              "</pre>\n"
            ]
          },
          "metadata": {}
        },
        {
          "output_type": "display_data",
          "data": {
            "text/plain": [
              "\u001b[1m Trainable params: \u001b[0m\u001b[38;5;34m500,210\u001b[0m (1.91 MB)\n"
            ],
            "text/html": [
              "<pre style=\"white-space:pre;overflow-x:auto;line-height:normal;font-family:Menlo,'DejaVu Sans Mono',consolas,'Courier New',monospace\"><span style=\"font-weight: bold\"> Trainable params: </span><span style=\"color: #00af00; text-decoration-color: #00af00\">500,210</span> (1.91 MB)\n",
              "</pre>\n"
            ]
          },
          "metadata": {}
        },
        {
          "output_type": "display_data",
          "data": {
            "text/plain": [
              "\u001b[1m Non-trainable params: \u001b[0m\u001b[38;5;34m0\u001b[0m (0.00 B)\n"
            ],
            "text/html": [
              "<pre style=\"white-space:pre;overflow-x:auto;line-height:normal;font-family:Menlo,'DejaVu Sans Mono',consolas,'Courier New',monospace\"><span style=\"font-weight: bold\"> Non-trainable params: </span><span style=\"color: #00af00; text-decoration-color: #00af00\">0</span> (0.00 B)\n",
              "</pre>\n"
            ]
          },
          "metadata": {}
        }
      ],
      "source": [
        "#Resumen del modelo\n",
        "model.summary()"
      ]
    },
    {
      "cell_type": "code",
      "execution_count": null,
      "id": "9e229549-f4ec-4ee0-b86a-efc4d2fd006c",
      "metadata": {
        "id": "9e229549-f4ec-4ee0-b86a-efc4d2fd006c"
      },
      "outputs": [],
      "source": [
        "# Compilamos el modelo de la manera mas mensa posible (Sparse categorical cross entropy, SGD, Accuracy)\n",
        "model.compile(loss=\"sparse_categorical_crossentropy\", optimizer=\"sgd\", metrics=[\"accuracy\"])"
      ]
    },
    {
      "cell_type": "code",
      "execution_count": null,
      "id": "0d7e3473-c2f8-4ff7-87ac-cf69028ebe41",
      "metadata": {
        "id": "0d7e3473-c2f8-4ff7-87ac-cf69028ebe41"
      },
      "outputs": [],
      "source": [
        "#Vamos a usar early stopping asi que necesitamos dataset de validación\n",
        "X_train = X_entrena_completo[5000:]\n",
        "y_train = y_entrena_completo[5000:]\n",
        "X_valid = X_entrena_completo[:5000]\n",
        "y_valid = y_entrena_completo[:5000]"
      ]
    },
    {
      "cell_type": "code",
      "execution_count": null,
      "id": "77d67082-4beb-4054-b9ca-f369794b5f72",
      "metadata": {
        "id": "77d67082-4beb-4054-b9ca-f369794b5f72",
        "outputId": "edb8c8b6-5a58-4004-c417-638b13b3eab2",
        "colab": {
          "base_uri": "https://localhost:8080/"
        }
      },
      "outputs": [
        {
          "output_type": "stream",
          "name": "stdout",
          "text": [
            "Epoch 1/30\n",
            "\u001b[1m1407/1407\u001b[0m \u001b[32m━━━━━━━━━━━━━━━━━━━━\u001b[0m\u001b[37m\u001b[0m \u001b[1m12s\u001b[0m 8ms/step - accuracy: 0.1676 - loss: 2.1675 - val_accuracy: 0.2232 - val_loss: 2.0010\n",
            "Epoch 2/30\n",
            "\u001b[1m1407/1407\u001b[0m \u001b[32m━━━━━━━━━━━━━━━━━━━━\u001b[0m\u001b[37m\u001b[0m \u001b[1m11s\u001b[0m 8ms/step - accuracy: 0.2795 - loss: 1.9373 - val_accuracy: 0.3020 - val_loss: 1.8776\n",
            "Epoch 3/30\n",
            "\u001b[1m1407/1407\u001b[0m \u001b[32m━━━━━━━━━━━━━━━━━━━━\u001b[0m\u001b[37m\u001b[0m \u001b[1m10s\u001b[0m 7ms/step - accuracy: 0.3205 - loss: 1.8517 - val_accuracy: 0.3116 - val_loss: 1.8645\n",
            "Epoch 4/30\n",
            "\u001b[1m1407/1407\u001b[0m \u001b[32m━━━━━━━━━━━━━━━━━━━━\u001b[0m\u001b[37m\u001b[0m \u001b[1m10s\u001b[0m 7ms/step - accuracy: 0.3441 - loss: 1.7986 - val_accuracy: 0.3262 - val_loss: 1.8076\n",
            "Epoch 5/30\n",
            "\u001b[1m1407/1407\u001b[0m \u001b[32m━━━━━━━━━━━━━━━━━━━━\u001b[0m\u001b[37m\u001b[0m \u001b[1m11s\u001b[0m 8ms/step - accuracy: 0.3629 - loss: 1.7531 - val_accuracy: 0.3344 - val_loss: 1.8321\n",
            "Epoch 6/30\n",
            "\u001b[1m1407/1407\u001b[0m \u001b[32m━━━━━━━━━━━━━━━━━━━━\u001b[0m\u001b[37m\u001b[0m \u001b[1m11s\u001b[0m 8ms/step - accuracy: 0.3767 - loss: 1.7138 - val_accuracy: 0.3620 - val_loss: 1.7471\n",
            "Epoch 7/30\n",
            "\u001b[1m1407/1407\u001b[0m \u001b[32m━━━━━━━━━━━━━━━━━━━━\u001b[0m\u001b[37m\u001b[0m \u001b[1m19s\u001b[0m 7ms/step - accuracy: 0.3945 - loss: 1.6672 - val_accuracy: 0.3776 - val_loss: 1.7059\n",
            "Epoch 8/30\n",
            "\u001b[1m1407/1407\u001b[0m \u001b[32m━━━━━━━━━━━━━━━━━━━━\u001b[0m\u001b[37m\u001b[0m \u001b[1m11s\u001b[0m 8ms/step - accuracy: 0.4104 - loss: 1.6393 - val_accuracy: 0.3300 - val_loss: 1.8827\n",
            "Epoch 9/30\n",
            "\u001b[1m1407/1407\u001b[0m \u001b[32m━━━━━━━━━━━━━━━━━━━━\u001b[0m\u001b[37m\u001b[0m \u001b[1m11s\u001b[0m 8ms/step - accuracy: 0.4181 - loss: 1.6247 - val_accuracy: 0.3938 - val_loss: 1.7149\n",
            "Epoch 10/30\n",
            "\u001b[1m1407/1407\u001b[0m \u001b[32m━━━━━━━━━━━━━━━━━━━━\u001b[0m\u001b[37m\u001b[0m \u001b[1m11s\u001b[0m 8ms/step - accuracy: 0.4276 - loss: 1.5918 - val_accuracy: 0.4126 - val_loss: 1.6370\n",
            "Epoch 11/30\n",
            "\u001b[1m1407/1407\u001b[0m \u001b[32m━━━━━━━━━━━━━━━━━━━━\u001b[0m\u001b[37m\u001b[0m \u001b[1m10s\u001b[0m 7ms/step - accuracy: 0.4385 - loss: 1.5646 - val_accuracy: 0.4122 - val_loss: 1.6464\n",
            "Epoch 12/30\n",
            "\u001b[1m1407/1407\u001b[0m \u001b[32m━━━━━━━━━━━━━━━━━━━━\u001b[0m\u001b[37m\u001b[0m \u001b[1m10s\u001b[0m 7ms/step - accuracy: 0.4474 - loss: 1.5463 - val_accuracy: 0.3996 - val_loss: 1.6929\n",
            "Epoch 13/30\n",
            "\u001b[1m1407/1407\u001b[0m \u001b[32m━━━━━━━━━━━━━━━━━━━━\u001b[0m\u001b[37m\u001b[0m \u001b[1m11s\u001b[0m 8ms/step - accuracy: 0.4517 - loss: 1.5323 - val_accuracy: 0.4072 - val_loss: 1.6712\n",
            "Epoch 14/30\n",
            "\u001b[1m1407/1407\u001b[0m \u001b[32m━━━━━━━━━━━━━━━━━━━━\u001b[0m\u001b[37m\u001b[0m \u001b[1m11s\u001b[0m 8ms/step - accuracy: 0.4606 - loss: 1.5134 - val_accuracy: 0.4284 - val_loss: 1.6228\n",
            "Epoch 15/30\n",
            "\u001b[1m1407/1407\u001b[0m \u001b[32m━━━━━━━━━━━━━━━━━━━━\u001b[0m\u001b[37m\u001b[0m \u001b[1m11s\u001b[0m 8ms/step - accuracy: 0.4676 - loss: 1.4979 - val_accuracy: 0.4290 - val_loss: 1.6350\n",
            "Epoch 16/30\n",
            "\u001b[1m1407/1407\u001b[0m \u001b[32m━━━━━━━━━━━━━━━━━━━━\u001b[0m\u001b[37m\u001b[0m \u001b[1m9s\u001b[0m 7ms/step - accuracy: 0.4685 - loss: 1.4894 - val_accuracy: 0.4298 - val_loss: 1.6366\n",
            "Epoch 17/30\n",
            "\u001b[1m1407/1407\u001b[0m \u001b[32m━━━━━━━━━━━━━━━━━━━━\u001b[0m\u001b[37m\u001b[0m \u001b[1m11s\u001b[0m 8ms/step - accuracy: 0.4753 - loss: 1.4699 - val_accuracy: 0.4514 - val_loss: 1.5448\n",
            "Epoch 18/30\n",
            "\u001b[1m1407/1407\u001b[0m \u001b[32m━━━━━━━━━━━━━━━━━━━━\u001b[0m\u001b[37m\u001b[0m \u001b[1m11s\u001b[0m 8ms/step - accuracy: 0.4775 - loss: 1.4566 - val_accuracy: 0.4264 - val_loss: 1.6563\n",
            "Epoch 19/30\n",
            "\u001b[1m1407/1407\u001b[0m \u001b[32m━━━━━━━━━━━━━━━━━━━━\u001b[0m\u001b[37m\u001b[0m \u001b[1m11s\u001b[0m 8ms/step - accuracy: 0.4761 - loss: 1.4480 - val_accuracy: 0.4544 - val_loss: 1.5503\n",
            "Epoch 20/30\n",
            "\u001b[1m1407/1407\u001b[0m \u001b[32m━━━━━━━━━━━━━━━━━━━━\u001b[0m\u001b[37m\u001b[0m \u001b[1m10s\u001b[0m 7ms/step - accuracy: 0.4854 - loss: 1.4371 - val_accuracy: 0.4488 - val_loss: 1.5715\n",
            "Epoch 21/30\n",
            "\u001b[1m1407/1407\u001b[0m \u001b[32m━━━━━━━━━━━━━━━━━━━━\u001b[0m\u001b[37m\u001b[0m \u001b[1m10s\u001b[0m 7ms/step - accuracy: 0.4890 - loss: 1.4201 - val_accuracy: 0.4478 - val_loss: 1.5772\n",
            "Epoch 22/30\n",
            "\u001b[1m1407/1407\u001b[0m \u001b[32m━━━━━━━━━━━━━━━━━━━━\u001b[0m\u001b[37m\u001b[0m \u001b[1m11s\u001b[0m 8ms/step - accuracy: 0.4986 - loss: 1.4076 - val_accuracy: 0.4454 - val_loss: 1.5778\n",
            "Epoch 23/30\n",
            "\u001b[1m1407/1407\u001b[0m \u001b[32m━━━━━━━━━━━━━━━━━━━━\u001b[0m\u001b[37m\u001b[0m \u001b[1m11s\u001b[0m 8ms/step - accuracy: 0.5025 - loss: 1.3974 - val_accuracy: 0.4484 - val_loss: 1.5769\n",
            "Epoch 24/30\n",
            "\u001b[1m1407/1407\u001b[0m \u001b[32m━━━━━━━━━━━━━━━━━━━━\u001b[0m\u001b[37m\u001b[0m \u001b[1m12s\u001b[0m 9ms/step - accuracy: 0.5036 - loss: 1.3860 - val_accuracy: 0.4572 - val_loss: 1.5753\n",
            "Epoch 25/30\n",
            "\u001b[1m1407/1407\u001b[0m \u001b[32m━━━━━━━━━━━━━━━━━━━━\u001b[0m\u001b[37m\u001b[0m \u001b[1m10s\u001b[0m 7ms/step - accuracy: 0.5086 - loss: 1.3740 - val_accuracy: 0.4398 - val_loss: 1.6060\n",
            "Epoch 26/30\n",
            "\u001b[1m1407/1407\u001b[0m \u001b[32m━━━━━━━━━━━━━━━━━━━━\u001b[0m\u001b[37m\u001b[0m \u001b[1m10s\u001b[0m 7ms/step - accuracy: 0.5127 - loss: 1.3642 - val_accuracy: 0.4116 - val_loss: 1.6513\n",
            "Epoch 27/30\n",
            "\u001b[1m1407/1407\u001b[0m \u001b[32m━━━━━━━━━━━━━━━━━━━━\u001b[0m\u001b[37m\u001b[0m \u001b[1m11s\u001b[0m 8ms/step - accuracy: 0.5174 - loss: 1.3573 - val_accuracy: 0.4402 - val_loss: 1.6851\n",
            "Epoch 28/30\n",
            "\u001b[1m1407/1407\u001b[0m \u001b[32m━━━━━━━━━━━━━━━━━━━━\u001b[0m\u001b[37m\u001b[0m \u001b[1m11s\u001b[0m 8ms/step - accuracy: 0.5194 - loss: 1.3500 - val_accuracy: 0.4568 - val_loss: 1.5619\n",
            "Epoch 29/30\n",
            "\u001b[1m1407/1407\u001b[0m \u001b[32m━━━━━━━━━━━━━━━━━━━━\u001b[0m\u001b[37m\u001b[0m \u001b[1m11s\u001b[0m 8ms/step - accuracy: 0.5222 - loss: 1.3377 - val_accuracy: 0.4460 - val_loss: 1.6174\n",
            "Epoch 30/30\n",
            "\u001b[1m1407/1407\u001b[0m \u001b[32m━━━━━━━━━━━━━━━━━━━━\u001b[0m\u001b[37m\u001b[0m \u001b[1m9s\u001b[0m 7ms/step - accuracy: 0.5257 - loss: 1.3268 - val_accuracy: 0.4676 - val_loss: 1.5414\n"
          ]
        }
      ],
      "source": [
        "#Entrena el modelo\n",
        "history = model.fit(X_train,y_train, epochs = 30, validation_data=(X_valid, y_valid))"
      ]
    },
    {
      "cell_type": "code",
      "execution_count": null,
      "id": "bb094160-08b7-4ccb-a144-8a9a3c97d790",
      "metadata": {
        "id": "bb094160-08b7-4ccb-a144-8a9a3c97d790",
        "outputId": "5df95f66-404a-4ab5-d944-f6c82687d56d",
        "colab": {
          "base_uri": "https://localhost:8080/"
        }
      },
      "outputs": [
        {
          "output_type": "stream",
          "name": "stdout",
          "text": [
            "\u001b[1m313/313\u001b[0m \u001b[32m━━━━━━━━━━━━━━━━━━━━\u001b[0m\u001b[37m\u001b[0m \u001b[1m1s\u001b[0m 4ms/step - accuracy: 0.4663 - loss: 1.5397\n"
          ]
        },
        {
          "output_type": "execute_result",
          "data": {
            "text/plain": [
              "[1.5432417392730713, 0.4659999907016754]"
            ]
          },
          "metadata": {},
          "execution_count": 12
        }
      ],
      "source": [
        "#Evalua el modelo\n",
        "model.evaluate(X_test,y_test)"
      ]
    },
    {
      "cell_type": "markdown",
      "id": "b244e9eb-df62-422e-b446-aa809a96504f",
      "metadata": {
        "id": "b244e9eb-df62-422e-b446-aa809a96504f"
      },
      "source": [
        "### 2.-\n",
        "_Ahora prueba con inicializacion HE y la función de activación ELU_"
      ]
    },
    {
      "cell_type": "code",
      "execution_count": null,
      "id": "76881fd4-2b3e-488a-a355-7aae9b89e54d",
      "metadata": {
        "id": "76881fd4-2b3e-488a-a355-7aae9b89e54d"
      },
      "outputs": [],
      "source": [
        "#Limpia Sesión\n",
        "keras.backend.clear_session()"
      ]
    },
    {
      "cell_type": "code",
      "execution_count": null,
      "id": "1a319e61-8369-4211-a824-caefe1799494",
      "metadata": {
        "id": "1a319e61-8369-4211-a824-caefe1799494"
      },
      "outputs": [],
      "source": [
        "#Semillas a 42\n",
        "tf.random.set_seed(42)\n",
        "np.random.seed(42)"
      ]
    },
    {
      "cell_type": "code",
      "execution_count": null,
      "id": "48662e72-3167-4611-99ff-c595190fe395",
      "metadata": {
        "id": "48662e72-3167-4611-99ff-c595190fe395"
      },
      "outputs": [],
      "source": [
        "#Armamos el modelo secuencial\n",
        "model = keras.models.Sequential()\n",
        "model.add(keras.layers.Flatten(input_shape=[32,32,3]))\n",
        "for _ in range(20):\n",
        "    model.add(keras.layers.Dense(100,activation=\"elu\", kernel_initializer=\"he_normal\"))\n",
        "model.add(keras.layers.Dense(10,activation=\"softmax\"))"
      ]
    },
    {
      "cell_type": "code",
      "execution_count": null,
      "id": "7fe365f0-1e4c-44b3-b2da-33811afe10ca",
      "metadata": {
        "id": "7fe365f0-1e4c-44b3-b2da-33811afe10ca",
        "outputId": "cef89a0e-e38e-4d94-9b3d-76d1c974fdeb",
        "colab": {
          "base_uri": "https://localhost:8080/",
          "height": 833
        }
      },
      "outputs": [
        {
          "output_type": "display_data",
          "data": {
            "text/plain": [
              "\u001b[1mModel: \"sequential\"\u001b[0m\n"
            ],
            "text/html": [
              "<pre style=\"white-space:pre;overflow-x:auto;line-height:normal;font-family:Menlo,'DejaVu Sans Mono',consolas,'Courier New',monospace\"><span style=\"font-weight: bold\">Model: \"sequential\"</span>\n",
              "</pre>\n"
            ]
          },
          "metadata": {}
        },
        {
          "output_type": "display_data",
          "data": {
            "text/plain": [
              "┏━━━━━━━━━━━━━━━━━━━━━━━━━━━━━━━━━┳━━━━━━━━━━━━━━━━━━━━━━━━┳━━━━━━━━━━━━━━━┓\n",
              "┃\u001b[1m \u001b[0m\u001b[1mLayer (type)                   \u001b[0m\u001b[1m \u001b[0m┃\u001b[1m \u001b[0m\u001b[1mOutput Shape          \u001b[0m\u001b[1m \u001b[0m┃\u001b[1m \u001b[0m\u001b[1m      Param #\u001b[0m\u001b[1m \u001b[0m┃\n",
              "┡━━━━━━━━━━━━━━━━━━━━━━━━━━━━━━━━━╇━━━━━━━━━━━━━━━━━━━━━━━━╇━━━━━━━━━━━━━━━┩\n",
              "│ flatten (\u001b[38;5;33mFlatten\u001b[0m)               │ (\u001b[38;5;45mNone\u001b[0m, \u001b[38;5;34m3072\u001b[0m)           │             \u001b[38;5;34m0\u001b[0m │\n",
              "├─────────────────────────────────┼────────────────────────┼───────────────┤\n",
              "│ dense (\u001b[38;5;33mDense\u001b[0m)                   │ (\u001b[38;5;45mNone\u001b[0m, \u001b[38;5;34m100\u001b[0m)            │       \u001b[38;5;34m307,300\u001b[0m │\n",
              "├─────────────────────────────────┼────────────────────────┼───────────────┤\n",
              "│ dense_1 (\u001b[38;5;33mDense\u001b[0m)                 │ (\u001b[38;5;45mNone\u001b[0m, \u001b[38;5;34m100\u001b[0m)            │        \u001b[38;5;34m10,100\u001b[0m │\n",
              "├─────────────────────────────────┼────────────────────────┼───────────────┤\n",
              "│ dense_2 (\u001b[38;5;33mDense\u001b[0m)                 │ (\u001b[38;5;45mNone\u001b[0m, \u001b[38;5;34m100\u001b[0m)            │        \u001b[38;5;34m10,100\u001b[0m │\n",
              "├─────────────────────────────────┼────────────────────────┼───────────────┤\n",
              "│ dense_3 (\u001b[38;5;33mDense\u001b[0m)                 │ (\u001b[38;5;45mNone\u001b[0m, \u001b[38;5;34m100\u001b[0m)            │        \u001b[38;5;34m10,100\u001b[0m │\n",
              "├─────────────────────────────────┼────────────────────────┼───────────────┤\n",
              "│ dense_4 (\u001b[38;5;33mDense\u001b[0m)                 │ (\u001b[38;5;45mNone\u001b[0m, \u001b[38;5;34m100\u001b[0m)            │        \u001b[38;5;34m10,100\u001b[0m │\n",
              "├─────────────────────────────────┼────────────────────────┼───────────────┤\n",
              "│ dense_5 (\u001b[38;5;33mDense\u001b[0m)                 │ (\u001b[38;5;45mNone\u001b[0m, \u001b[38;5;34m100\u001b[0m)            │        \u001b[38;5;34m10,100\u001b[0m │\n",
              "├─────────────────────────────────┼────────────────────────┼───────────────┤\n",
              "│ dense_6 (\u001b[38;5;33mDense\u001b[0m)                 │ (\u001b[38;5;45mNone\u001b[0m, \u001b[38;5;34m100\u001b[0m)            │        \u001b[38;5;34m10,100\u001b[0m │\n",
              "├─────────────────────────────────┼────────────────────────┼───────────────┤\n",
              "│ dense_7 (\u001b[38;5;33mDense\u001b[0m)                 │ (\u001b[38;5;45mNone\u001b[0m, \u001b[38;5;34m100\u001b[0m)            │        \u001b[38;5;34m10,100\u001b[0m │\n",
              "├─────────────────────────────────┼────────────────────────┼───────────────┤\n",
              "│ dense_8 (\u001b[38;5;33mDense\u001b[0m)                 │ (\u001b[38;5;45mNone\u001b[0m, \u001b[38;5;34m100\u001b[0m)            │        \u001b[38;5;34m10,100\u001b[0m │\n",
              "├─────────────────────────────────┼────────────────────────┼───────────────┤\n",
              "│ dense_9 (\u001b[38;5;33mDense\u001b[0m)                 │ (\u001b[38;5;45mNone\u001b[0m, \u001b[38;5;34m100\u001b[0m)            │        \u001b[38;5;34m10,100\u001b[0m │\n",
              "├─────────────────────────────────┼────────────────────────┼───────────────┤\n",
              "│ dense_10 (\u001b[38;5;33mDense\u001b[0m)                │ (\u001b[38;5;45mNone\u001b[0m, \u001b[38;5;34m100\u001b[0m)            │        \u001b[38;5;34m10,100\u001b[0m │\n",
              "├─────────────────────────────────┼────────────────────────┼───────────────┤\n",
              "│ dense_11 (\u001b[38;5;33mDense\u001b[0m)                │ (\u001b[38;5;45mNone\u001b[0m, \u001b[38;5;34m100\u001b[0m)            │        \u001b[38;5;34m10,100\u001b[0m │\n",
              "├─────────────────────────────────┼────────────────────────┼───────────────┤\n",
              "│ dense_12 (\u001b[38;5;33mDense\u001b[0m)                │ (\u001b[38;5;45mNone\u001b[0m, \u001b[38;5;34m100\u001b[0m)            │        \u001b[38;5;34m10,100\u001b[0m │\n",
              "├─────────────────────────────────┼────────────────────────┼───────────────┤\n",
              "│ dense_13 (\u001b[38;5;33mDense\u001b[0m)                │ (\u001b[38;5;45mNone\u001b[0m, \u001b[38;5;34m100\u001b[0m)            │        \u001b[38;5;34m10,100\u001b[0m │\n",
              "├─────────────────────────────────┼────────────────────────┼───────────────┤\n",
              "│ dense_14 (\u001b[38;5;33mDense\u001b[0m)                │ (\u001b[38;5;45mNone\u001b[0m, \u001b[38;5;34m100\u001b[0m)            │        \u001b[38;5;34m10,100\u001b[0m │\n",
              "├─────────────────────────────────┼────────────────────────┼───────────────┤\n",
              "│ dense_15 (\u001b[38;5;33mDense\u001b[0m)                │ (\u001b[38;5;45mNone\u001b[0m, \u001b[38;5;34m100\u001b[0m)            │        \u001b[38;5;34m10,100\u001b[0m │\n",
              "├─────────────────────────────────┼────────────────────────┼───────────────┤\n",
              "│ dense_16 (\u001b[38;5;33mDense\u001b[0m)                │ (\u001b[38;5;45mNone\u001b[0m, \u001b[38;5;34m100\u001b[0m)            │        \u001b[38;5;34m10,100\u001b[0m │\n",
              "├─────────────────────────────────┼────────────────────────┼───────────────┤\n",
              "│ dense_17 (\u001b[38;5;33mDense\u001b[0m)                │ (\u001b[38;5;45mNone\u001b[0m, \u001b[38;5;34m100\u001b[0m)            │        \u001b[38;5;34m10,100\u001b[0m │\n",
              "├─────────────────────────────────┼────────────────────────┼───────────────┤\n",
              "│ dense_18 (\u001b[38;5;33mDense\u001b[0m)                │ (\u001b[38;5;45mNone\u001b[0m, \u001b[38;5;34m100\u001b[0m)            │        \u001b[38;5;34m10,100\u001b[0m │\n",
              "├─────────────────────────────────┼────────────────────────┼───────────────┤\n",
              "│ dense_19 (\u001b[38;5;33mDense\u001b[0m)                │ (\u001b[38;5;45mNone\u001b[0m, \u001b[38;5;34m100\u001b[0m)            │        \u001b[38;5;34m10,100\u001b[0m │\n",
              "├─────────────────────────────────┼────────────────────────┼───────────────┤\n",
              "│ dense_20 (\u001b[38;5;33mDense\u001b[0m)                │ (\u001b[38;5;45mNone\u001b[0m, \u001b[38;5;34m10\u001b[0m)             │         \u001b[38;5;34m1,010\u001b[0m │\n",
              "└─────────────────────────────────┴────────────────────────┴───────────────┘\n"
            ],
            "text/html": [
              "<pre style=\"white-space:pre;overflow-x:auto;line-height:normal;font-family:Menlo,'DejaVu Sans Mono',consolas,'Courier New',monospace\">┏━━━━━━━━━━━━━━━━━━━━━━━━━━━━━━━━━┳━━━━━━━━━━━━━━━━━━━━━━━━┳━━━━━━━━━━━━━━━┓\n",
              "┃<span style=\"font-weight: bold\"> Layer (type)                    </span>┃<span style=\"font-weight: bold\"> Output Shape           </span>┃<span style=\"font-weight: bold\">       Param # </span>┃\n",
              "┡━━━━━━━━━━━━━━━━━━━━━━━━━━━━━━━━━╇━━━━━━━━━━━━━━━━━━━━━━━━╇━━━━━━━━━━━━━━━┩\n",
              "│ flatten (<span style=\"color: #0087ff; text-decoration-color: #0087ff\">Flatten</span>)               │ (<span style=\"color: #00d7ff; text-decoration-color: #00d7ff\">None</span>, <span style=\"color: #00af00; text-decoration-color: #00af00\">3072</span>)           │             <span style=\"color: #00af00; text-decoration-color: #00af00\">0</span> │\n",
              "├─────────────────────────────────┼────────────────────────┼───────────────┤\n",
              "│ dense (<span style=\"color: #0087ff; text-decoration-color: #0087ff\">Dense</span>)                   │ (<span style=\"color: #00d7ff; text-decoration-color: #00d7ff\">None</span>, <span style=\"color: #00af00; text-decoration-color: #00af00\">100</span>)            │       <span style=\"color: #00af00; text-decoration-color: #00af00\">307,300</span> │\n",
              "├─────────────────────────────────┼────────────────────────┼───────────────┤\n",
              "│ dense_1 (<span style=\"color: #0087ff; text-decoration-color: #0087ff\">Dense</span>)                 │ (<span style=\"color: #00d7ff; text-decoration-color: #00d7ff\">None</span>, <span style=\"color: #00af00; text-decoration-color: #00af00\">100</span>)            │        <span style=\"color: #00af00; text-decoration-color: #00af00\">10,100</span> │\n",
              "├─────────────────────────────────┼────────────────────────┼───────────────┤\n",
              "│ dense_2 (<span style=\"color: #0087ff; text-decoration-color: #0087ff\">Dense</span>)                 │ (<span style=\"color: #00d7ff; text-decoration-color: #00d7ff\">None</span>, <span style=\"color: #00af00; text-decoration-color: #00af00\">100</span>)            │        <span style=\"color: #00af00; text-decoration-color: #00af00\">10,100</span> │\n",
              "├─────────────────────────────────┼────────────────────────┼───────────────┤\n",
              "│ dense_3 (<span style=\"color: #0087ff; text-decoration-color: #0087ff\">Dense</span>)                 │ (<span style=\"color: #00d7ff; text-decoration-color: #00d7ff\">None</span>, <span style=\"color: #00af00; text-decoration-color: #00af00\">100</span>)            │        <span style=\"color: #00af00; text-decoration-color: #00af00\">10,100</span> │\n",
              "├─────────────────────────────────┼────────────────────────┼───────────────┤\n",
              "│ dense_4 (<span style=\"color: #0087ff; text-decoration-color: #0087ff\">Dense</span>)                 │ (<span style=\"color: #00d7ff; text-decoration-color: #00d7ff\">None</span>, <span style=\"color: #00af00; text-decoration-color: #00af00\">100</span>)            │        <span style=\"color: #00af00; text-decoration-color: #00af00\">10,100</span> │\n",
              "├─────────────────────────────────┼────────────────────────┼───────────────┤\n",
              "│ dense_5 (<span style=\"color: #0087ff; text-decoration-color: #0087ff\">Dense</span>)                 │ (<span style=\"color: #00d7ff; text-decoration-color: #00d7ff\">None</span>, <span style=\"color: #00af00; text-decoration-color: #00af00\">100</span>)            │        <span style=\"color: #00af00; text-decoration-color: #00af00\">10,100</span> │\n",
              "├─────────────────────────────────┼────────────────────────┼───────────────┤\n",
              "│ dense_6 (<span style=\"color: #0087ff; text-decoration-color: #0087ff\">Dense</span>)                 │ (<span style=\"color: #00d7ff; text-decoration-color: #00d7ff\">None</span>, <span style=\"color: #00af00; text-decoration-color: #00af00\">100</span>)            │        <span style=\"color: #00af00; text-decoration-color: #00af00\">10,100</span> │\n",
              "├─────────────────────────────────┼────────────────────────┼───────────────┤\n",
              "│ dense_7 (<span style=\"color: #0087ff; text-decoration-color: #0087ff\">Dense</span>)                 │ (<span style=\"color: #00d7ff; text-decoration-color: #00d7ff\">None</span>, <span style=\"color: #00af00; text-decoration-color: #00af00\">100</span>)            │        <span style=\"color: #00af00; text-decoration-color: #00af00\">10,100</span> │\n",
              "├─────────────────────────────────┼────────────────────────┼───────────────┤\n",
              "│ dense_8 (<span style=\"color: #0087ff; text-decoration-color: #0087ff\">Dense</span>)                 │ (<span style=\"color: #00d7ff; text-decoration-color: #00d7ff\">None</span>, <span style=\"color: #00af00; text-decoration-color: #00af00\">100</span>)            │        <span style=\"color: #00af00; text-decoration-color: #00af00\">10,100</span> │\n",
              "├─────────────────────────────────┼────────────────────────┼───────────────┤\n",
              "│ dense_9 (<span style=\"color: #0087ff; text-decoration-color: #0087ff\">Dense</span>)                 │ (<span style=\"color: #00d7ff; text-decoration-color: #00d7ff\">None</span>, <span style=\"color: #00af00; text-decoration-color: #00af00\">100</span>)            │        <span style=\"color: #00af00; text-decoration-color: #00af00\">10,100</span> │\n",
              "├─────────────────────────────────┼────────────────────────┼───────────────┤\n",
              "│ dense_10 (<span style=\"color: #0087ff; text-decoration-color: #0087ff\">Dense</span>)                │ (<span style=\"color: #00d7ff; text-decoration-color: #00d7ff\">None</span>, <span style=\"color: #00af00; text-decoration-color: #00af00\">100</span>)            │        <span style=\"color: #00af00; text-decoration-color: #00af00\">10,100</span> │\n",
              "├─────────────────────────────────┼────────────────────────┼───────────────┤\n",
              "│ dense_11 (<span style=\"color: #0087ff; text-decoration-color: #0087ff\">Dense</span>)                │ (<span style=\"color: #00d7ff; text-decoration-color: #00d7ff\">None</span>, <span style=\"color: #00af00; text-decoration-color: #00af00\">100</span>)            │        <span style=\"color: #00af00; text-decoration-color: #00af00\">10,100</span> │\n",
              "├─────────────────────────────────┼────────────────────────┼───────────────┤\n",
              "│ dense_12 (<span style=\"color: #0087ff; text-decoration-color: #0087ff\">Dense</span>)                │ (<span style=\"color: #00d7ff; text-decoration-color: #00d7ff\">None</span>, <span style=\"color: #00af00; text-decoration-color: #00af00\">100</span>)            │        <span style=\"color: #00af00; text-decoration-color: #00af00\">10,100</span> │\n",
              "├─────────────────────────────────┼────────────────────────┼───────────────┤\n",
              "│ dense_13 (<span style=\"color: #0087ff; text-decoration-color: #0087ff\">Dense</span>)                │ (<span style=\"color: #00d7ff; text-decoration-color: #00d7ff\">None</span>, <span style=\"color: #00af00; text-decoration-color: #00af00\">100</span>)            │        <span style=\"color: #00af00; text-decoration-color: #00af00\">10,100</span> │\n",
              "├─────────────────────────────────┼────────────────────────┼───────────────┤\n",
              "│ dense_14 (<span style=\"color: #0087ff; text-decoration-color: #0087ff\">Dense</span>)                │ (<span style=\"color: #00d7ff; text-decoration-color: #00d7ff\">None</span>, <span style=\"color: #00af00; text-decoration-color: #00af00\">100</span>)            │        <span style=\"color: #00af00; text-decoration-color: #00af00\">10,100</span> │\n",
              "├─────────────────────────────────┼────────────────────────┼───────────────┤\n",
              "│ dense_15 (<span style=\"color: #0087ff; text-decoration-color: #0087ff\">Dense</span>)                │ (<span style=\"color: #00d7ff; text-decoration-color: #00d7ff\">None</span>, <span style=\"color: #00af00; text-decoration-color: #00af00\">100</span>)            │        <span style=\"color: #00af00; text-decoration-color: #00af00\">10,100</span> │\n",
              "├─────────────────────────────────┼────────────────────────┼───────────────┤\n",
              "│ dense_16 (<span style=\"color: #0087ff; text-decoration-color: #0087ff\">Dense</span>)                │ (<span style=\"color: #00d7ff; text-decoration-color: #00d7ff\">None</span>, <span style=\"color: #00af00; text-decoration-color: #00af00\">100</span>)            │        <span style=\"color: #00af00; text-decoration-color: #00af00\">10,100</span> │\n",
              "├─────────────────────────────────┼────────────────────────┼───────────────┤\n",
              "│ dense_17 (<span style=\"color: #0087ff; text-decoration-color: #0087ff\">Dense</span>)                │ (<span style=\"color: #00d7ff; text-decoration-color: #00d7ff\">None</span>, <span style=\"color: #00af00; text-decoration-color: #00af00\">100</span>)            │        <span style=\"color: #00af00; text-decoration-color: #00af00\">10,100</span> │\n",
              "├─────────────────────────────────┼────────────────────────┼───────────────┤\n",
              "│ dense_18 (<span style=\"color: #0087ff; text-decoration-color: #0087ff\">Dense</span>)                │ (<span style=\"color: #00d7ff; text-decoration-color: #00d7ff\">None</span>, <span style=\"color: #00af00; text-decoration-color: #00af00\">100</span>)            │        <span style=\"color: #00af00; text-decoration-color: #00af00\">10,100</span> │\n",
              "├─────────────────────────────────┼────────────────────────┼───────────────┤\n",
              "│ dense_19 (<span style=\"color: #0087ff; text-decoration-color: #0087ff\">Dense</span>)                │ (<span style=\"color: #00d7ff; text-decoration-color: #00d7ff\">None</span>, <span style=\"color: #00af00; text-decoration-color: #00af00\">100</span>)            │        <span style=\"color: #00af00; text-decoration-color: #00af00\">10,100</span> │\n",
              "├─────────────────────────────────┼────────────────────────┼───────────────┤\n",
              "│ dense_20 (<span style=\"color: #0087ff; text-decoration-color: #0087ff\">Dense</span>)                │ (<span style=\"color: #00d7ff; text-decoration-color: #00d7ff\">None</span>, <span style=\"color: #00af00; text-decoration-color: #00af00\">10</span>)             │         <span style=\"color: #00af00; text-decoration-color: #00af00\">1,010</span> │\n",
              "└─────────────────────────────────┴────────────────────────┴───────────────┘\n",
              "</pre>\n"
            ]
          },
          "metadata": {}
        },
        {
          "output_type": "display_data",
          "data": {
            "text/plain": [
              "\u001b[1m Total params: \u001b[0m\u001b[38;5;34m500,210\u001b[0m (1.91 MB)\n"
            ],
            "text/html": [
              "<pre style=\"white-space:pre;overflow-x:auto;line-height:normal;font-family:Menlo,'DejaVu Sans Mono',consolas,'Courier New',monospace\"><span style=\"font-weight: bold\"> Total params: </span><span style=\"color: #00af00; text-decoration-color: #00af00\">500,210</span> (1.91 MB)\n",
              "</pre>\n"
            ]
          },
          "metadata": {}
        },
        {
          "output_type": "display_data",
          "data": {
            "text/plain": [
              "\u001b[1m Trainable params: \u001b[0m\u001b[38;5;34m500,210\u001b[0m (1.91 MB)\n"
            ],
            "text/html": [
              "<pre style=\"white-space:pre;overflow-x:auto;line-height:normal;font-family:Menlo,'DejaVu Sans Mono',consolas,'Courier New',monospace\"><span style=\"font-weight: bold\"> Trainable params: </span><span style=\"color: #00af00; text-decoration-color: #00af00\">500,210</span> (1.91 MB)\n",
              "</pre>\n"
            ]
          },
          "metadata": {}
        },
        {
          "output_type": "display_data",
          "data": {
            "text/plain": [
              "\u001b[1m Non-trainable params: \u001b[0m\u001b[38;5;34m0\u001b[0m (0.00 B)\n"
            ],
            "text/html": [
              "<pre style=\"white-space:pre;overflow-x:auto;line-height:normal;font-family:Menlo,'DejaVu Sans Mono',consolas,'Courier New',monospace\"><span style=\"font-weight: bold\"> Non-trainable params: </span><span style=\"color: #00af00; text-decoration-color: #00af00\">0</span> (0.00 B)\n",
              "</pre>\n"
            ]
          },
          "metadata": {}
        }
      ],
      "source": [
        "#Resumen del modelo - algo cambió?\n",
        "model.summary()"
      ]
    },
    {
      "cell_type": "code",
      "execution_count": null,
      "id": "83e452b9-b877-4fb2-8307-6abab7fcd617",
      "metadata": {
        "id": "83e452b9-b877-4fb2-8307-6abab7fcd617"
      },
      "outputs": [],
      "source": [
        "#Compila el modelo (no cambia nada)\n",
        "model.compile(loss=\"sparse_categorical_crossentropy\", optimizer=\"sgd\", metrics=[\"accuracy\"])"
      ]
    },
    {
      "cell_type": "code",
      "execution_count": null,
      "id": "c99653a6-86f3-4298-b801-46e231952969",
      "metadata": {
        "id": "c99653a6-86f3-4298-b801-46e231952969",
        "outputId": "2bc24dc2-2ada-4588-e4ea-066a6ef2d735",
        "colab": {
          "base_uri": "https://localhost:8080/"
        }
      },
      "outputs": [
        {
          "output_type": "stream",
          "name": "stdout",
          "text": [
            "Epoch 1/30\n",
            "\u001b[1m1407/1407\u001b[0m \u001b[32m━━━━━━━━━━━━━━━━━━━━\u001b[0m\u001b[37m\u001b[0m \u001b[1m11s\u001b[0m 8ms/step - accuracy: 0.5313 - loss: 1.3124 - val_accuracy: 0.4814 - val_loss: 1.5108\n",
            "Epoch 2/30\n",
            "\u001b[1m1407/1407\u001b[0m \u001b[32m━━━━━━━━━━━━━━━━━━━━\u001b[0m\u001b[37m\u001b[0m \u001b[1m11s\u001b[0m 8ms/step - accuracy: 0.5301 - loss: 1.3070 - val_accuracy: 0.4454 - val_loss: 1.5789\n",
            "Epoch 3/30\n",
            "\u001b[1m1407/1407\u001b[0m \u001b[32m━━━━━━━━━━━━━━━━━━━━\u001b[0m\u001b[37m\u001b[0m \u001b[1m11s\u001b[0m 8ms/step - accuracy: 0.5338 - loss: 1.2987 - val_accuracy: 0.4590 - val_loss: 1.5505\n",
            "Epoch 4/30\n",
            "\u001b[1m1407/1407\u001b[0m \u001b[32m━━━━━━━━━━━━━━━━━━━━\u001b[0m\u001b[37m\u001b[0m \u001b[1m9s\u001b[0m 7ms/step - accuracy: 0.5378 - loss: 1.2951 - val_accuracy: 0.4600 - val_loss: 1.5560\n",
            "Epoch 5/30\n",
            "\u001b[1m1407/1407\u001b[0m \u001b[32m━━━━━━━━━━━━━━━━━━━━\u001b[0m\u001b[37m\u001b[0m \u001b[1m11s\u001b[0m 8ms/step - accuracy: 0.5457 - loss: 1.2745 - val_accuracy: 0.4756 - val_loss: 1.5073\n",
            "Epoch 6/30\n",
            "\u001b[1m1407/1407\u001b[0m \u001b[32m━━━━━━━━━━━━━━━━━━━━\u001b[0m\u001b[37m\u001b[0m \u001b[1m11s\u001b[0m 8ms/step - accuracy: 0.5480 - loss: 1.2725 - val_accuracy: 0.4246 - val_loss: 1.7120\n",
            "Epoch 7/30\n",
            "\u001b[1m1407/1407\u001b[0m \u001b[32m━━━━━━━━━━━━━━━━━━━━\u001b[0m\u001b[37m\u001b[0m \u001b[1m11s\u001b[0m 8ms/step - accuracy: 0.5443 - loss: 1.2750 - val_accuracy: 0.4744 - val_loss: 1.5205\n",
            "Epoch 8/30\n",
            "\u001b[1m1407/1407\u001b[0m \u001b[32m━━━━━━━━━━━━━━━━━━━━\u001b[0m\u001b[37m\u001b[0m \u001b[1m10s\u001b[0m 7ms/step - accuracy: 0.5475 - loss: 1.2628 - val_accuracy: 0.4696 - val_loss: 1.5318\n",
            "Epoch 9/30\n",
            "\u001b[1m1407/1407\u001b[0m \u001b[32m━━━━━━━━━━━━━━━━━━━━\u001b[0m\u001b[37m\u001b[0m \u001b[1m10s\u001b[0m 7ms/step - accuracy: 0.5517 - loss: 1.2527 - val_accuracy: 0.4662 - val_loss: 1.5798\n",
            "Epoch 10/30\n",
            "\u001b[1m1407/1407\u001b[0m \u001b[32m━━━━━━━━━━━━━━━━━━━━\u001b[0m\u001b[37m\u001b[0m \u001b[1m11s\u001b[0m 8ms/step - accuracy: 0.5545 - loss: 1.2535 - val_accuracy: 0.4642 - val_loss: 1.5591\n",
            "Epoch 11/30\n",
            "\u001b[1m1407/1407\u001b[0m \u001b[32m━━━━━━━━━━━━━━━━━━━━\u001b[0m\u001b[37m\u001b[0m \u001b[1m11s\u001b[0m 7ms/step - accuracy: 0.5592 - loss: 1.2361 - val_accuracy: 0.4844 - val_loss: 1.5063\n",
            "Epoch 12/30\n",
            "\u001b[1m1407/1407\u001b[0m \u001b[32m━━━━━━━━━━━━━━━━━━━━\u001b[0m\u001b[37m\u001b[0m \u001b[1m11s\u001b[0m 8ms/step - accuracy: 0.5603 - loss: 1.2321 - val_accuracy: 0.4832 - val_loss: 1.5272\n",
            "Epoch 13/30\n",
            "\u001b[1m1407/1407\u001b[0m \u001b[32m━━━━━━━━━━━━━━━━━━━━\u001b[0m\u001b[37m\u001b[0m \u001b[1m9s\u001b[0m 6ms/step - accuracy: 0.5643 - loss: 1.2195 - val_accuracy: 0.4608 - val_loss: 1.6131\n",
            "Epoch 14/30\n",
            "\u001b[1m1407/1407\u001b[0m \u001b[32m━━━━━━━━━━━━━━━━━━━━\u001b[0m\u001b[37m\u001b[0m \u001b[1m10s\u001b[0m 7ms/step - accuracy: 0.5663 - loss: 1.2171 - val_accuracy: 0.4718 - val_loss: 1.5532\n",
            "Epoch 15/30\n",
            "\u001b[1m1407/1407\u001b[0m \u001b[32m━━━━━━━━━━━━━━━━━━━━\u001b[0m\u001b[37m\u001b[0m \u001b[1m12s\u001b[0m 9ms/step - accuracy: 0.5693 - loss: 1.2113 - val_accuracy: 0.3724 - val_loss: 1.9365\n",
            "Epoch 16/30\n",
            "\u001b[1m1407/1407\u001b[0m \u001b[32m━━━━━━━━━━━━━━━━━━━━\u001b[0m\u001b[37m\u001b[0m \u001b[1m11s\u001b[0m 7ms/step - accuracy: 0.5621 - loss: 1.2317 - val_accuracy: 0.4872 - val_loss: 1.5402\n",
            "Epoch 17/30\n",
            "\u001b[1m1407/1407\u001b[0m \u001b[32m━━━━━━━━━━━━━━━━━━━━\u001b[0m\u001b[37m\u001b[0m \u001b[1m10s\u001b[0m 7ms/step - accuracy: 0.5764 - loss: 1.1889 - val_accuracy: 0.4890 - val_loss: 1.5377\n",
            "Epoch 18/30\n",
            "\u001b[1m1407/1407\u001b[0m \u001b[32m━━━━━━━━━━━━━━━━━━━━\u001b[0m\u001b[37m\u001b[0m \u001b[1m10s\u001b[0m 7ms/step - accuracy: 0.5785 - loss: 1.1901 - val_accuracy: 0.4496 - val_loss: 1.6188\n",
            "Epoch 19/30\n",
            "\u001b[1m1407/1407\u001b[0m \u001b[32m━━━━━━━━━━━━━━━━━━━━\u001b[0m\u001b[37m\u001b[0m \u001b[1m11s\u001b[0m 8ms/step - accuracy: 0.5788 - loss: 1.1817 - val_accuracy: 0.4660 - val_loss: 1.5724\n",
            "Epoch 20/30\n",
            "\u001b[1m1407/1407\u001b[0m \u001b[32m━━━━━━━━━━━━━━━━━━━━\u001b[0m\u001b[37m\u001b[0m \u001b[1m11s\u001b[0m 8ms/step - accuracy: 0.5800 - loss: 1.1806 - val_accuracy: 0.4694 - val_loss: 1.5823\n",
            "Epoch 21/30\n",
            "\u001b[1m1407/1407\u001b[0m \u001b[32m━━━━━━━━━━━━━━━━━━━━\u001b[0m\u001b[37m\u001b[0m \u001b[1m11s\u001b[0m 8ms/step - accuracy: 0.5800 - loss: 1.1751 - val_accuracy: 0.4706 - val_loss: 1.5903\n",
            "Epoch 22/30\n",
            "\u001b[1m1407/1407\u001b[0m \u001b[32m━━━━━━━━━━━━━━━━━━━━\u001b[0m\u001b[37m\u001b[0m \u001b[1m9s\u001b[0m 7ms/step - accuracy: 0.5866 - loss: 1.1664 - val_accuracy: 0.3594 - val_loss: 2.1032\n",
            "Epoch 23/30\n",
            "\u001b[1m1407/1407\u001b[0m \u001b[32m━━━━━━━━━━━━━━━━━━━━\u001b[0m\u001b[37m\u001b[0m \u001b[1m11s\u001b[0m 7ms/step - accuracy: 0.5773 - loss: 1.1720 - val_accuracy: 0.4794 - val_loss: 1.5755\n",
            "Epoch 24/30\n",
            "\u001b[1m1407/1407\u001b[0m \u001b[32m━━━━━━━━━━━━━━━━━━━━\u001b[0m\u001b[37m\u001b[0m \u001b[1m11s\u001b[0m 8ms/step - accuracy: 0.5881 - loss: 1.1549 - val_accuracy: 0.4648 - val_loss: 1.6150\n",
            "Epoch 25/30\n",
            "\u001b[1m1407/1407\u001b[0m \u001b[32m━━━━━━━━━━━━━━━━━━━━\u001b[0m\u001b[37m\u001b[0m \u001b[1m11s\u001b[0m 8ms/step - accuracy: 0.5931 - loss: 1.1465 - val_accuracy: 0.4840 - val_loss: 1.5297\n",
            "Epoch 26/30\n",
            "\u001b[1m1407/1407\u001b[0m \u001b[32m━━━━━━━━━━━━━━━━━━━━\u001b[0m\u001b[37m\u001b[0m \u001b[1m11s\u001b[0m 8ms/step - accuracy: 0.5931 - loss: 1.1435 - val_accuracy: 0.4708 - val_loss: 1.6167\n",
            "Epoch 27/30\n",
            "\u001b[1m1407/1407\u001b[0m \u001b[32m━━━━━━━━━━━━━━━━━━━━\u001b[0m\u001b[37m\u001b[0m \u001b[1m9s\u001b[0m 7ms/step - accuracy: 0.5932 - loss: 1.1400 - val_accuracy: 0.4842 - val_loss: 1.5374\n",
            "Epoch 28/30\n",
            "\u001b[1m1407/1407\u001b[0m \u001b[32m━━━━━━━━━━━━━━━━━━━━\u001b[0m\u001b[37m\u001b[0m \u001b[1m11s\u001b[0m 8ms/step - accuracy: 0.5969 - loss: 1.1315 - val_accuracy: 0.4822 - val_loss: 1.5827\n",
            "Epoch 29/30\n",
            "\u001b[1m1407/1407\u001b[0m \u001b[32m━━━━━━━━━━━━━━━━━━━━\u001b[0m\u001b[37m\u001b[0m \u001b[1m11s\u001b[0m 8ms/step - accuracy: 0.5983 - loss: 1.1313 - val_accuracy: 0.4826 - val_loss: 1.5844\n",
            "Epoch 30/30\n",
            "\u001b[1m1407/1407\u001b[0m \u001b[32m━━━━━━━━━━━━━━━━━━━━\u001b[0m\u001b[37m\u001b[0m \u001b[1m11s\u001b[0m 8ms/step - accuracy: 0.5999 - loss: 1.1182 - val_accuracy: 0.4594 - val_loss: 1.7149\n"
          ]
        },
        {
          "output_type": "execute_result",
          "data": {
            "text/plain": [
              "<keras.src.callbacks.history.History at 0x7bdef8489730>"
            ]
          },
          "metadata": {},
          "execution_count": 18
        }
      ],
      "source": [
        "#Ejecuta este desastre\n",
        "history.model.fit(X_train,y_train, epochs=30,validation_data=(X_valid,y_valid))"
      ]
    },
    {
      "cell_type": "code",
      "execution_count": null,
      "id": "9ada940c-8f82-4da9-984d-6a628fed4059",
      "metadata": {
        "id": "9ada940c-8f82-4da9-984d-6a628fed4059",
        "outputId": "b58442a4-ab4e-432f-dead-0c91145ccf09",
        "colab": {
          "base_uri": "https://localhost:8080/"
        }
      },
      "outputs": [
        {
          "output_type": "stream",
          "name": "stdout",
          "text": [
            "\u001b[1m313/313\u001b[0m \u001b[32m━━━━━━━━━━━━━━━━━━━━\u001b[0m\u001b[37m\u001b[0m \u001b[1m2s\u001b[0m 4ms/step - accuracy: 0.0915 - loss: 144.7586\n"
          ]
        },
        {
          "output_type": "execute_result",
          "data": {
            "text/plain": [
              "[145.12863159179688, 0.08860000222921371]"
            ]
          },
          "metadata": {},
          "execution_count": 19
        }
      ],
      "source": [
        "#Evalua pero no tengas esperanzas\n",
        "model.evaluate(X_test,y_test)"
      ]
    },
    {
      "cell_type": "markdown",
      "id": "d7254e9e-e93f-40a2-9e99-45123c930e44",
      "metadata": {
        "id": "d7254e9e-e93f-40a2-9e99-45123c930e44"
      },
      "source": [
        "### 3.-\n",
        "_Fracaso rotundo, sigue con el proceso ahora para compilar con optimizarod Nadam y early stopping_"
      ]
    },
    {
      "cell_type": "code",
      "execution_count": null,
      "id": "1a0b622f-9c51-4ebe-8fea-cc06fd24482f",
      "metadata": {
        "id": "1a0b622f-9c51-4ebe-8fea-cc06fd24482f"
      },
      "outputs": [],
      "source": [
        "#Despeja el backend de Keras\n",
        "keras.backend.clear_session()\n",
        "\n",
        "#Semillas a 42\n",
        "tf.random.set_seed(42)\n",
        "np.random.seed(42)\n",
        "\n",
        "#Armamos el modelo Secuencial\n",
        "model = keras.models.Sequential()\n",
        "model.add(keras.layers.Flatten(input_shape=[32,32,3]))\n",
        "for _ in range(20):\n",
        "    model.add(keras.layers.Dense(100, activation = \"elu\", kernel_initializer=\"he_normal\"))\n",
        "model.add(keras.layers.Dense(10, activation= \"softmax\"))"
      ]
    },
    {
      "cell_type": "code",
      "execution_count": null,
      "id": "26fdf72a-42fa-4015-a59d-72cac8ccaf92",
      "metadata": {
        "id": "26fdf72a-42fa-4015-a59d-72cac8ccaf92"
      },
      "outputs": [],
      "source": [
        "#Optimizador NADAM\n",
        "optimizer = keras.optimizers.Nadam(learning_rate=5e-5,beta_1=0.9, beta_2=0.999)\n",
        "#Compila con NADAM\n",
        "model.compile(loss=\"sparse_categorical_crossentropy\",optimizer=optimizer,metrics=[\"accuracy\"])\n"
      ]
    },
    {
      "cell_type": "code",
      "execution_count": null,
      "id": "47cc059e-8702-44bd-b177-fa401cacfbfe",
      "metadata": {
        "id": "47cc059e-8702-44bd-b177-fa401cacfbfe"
      },
      "outputs": [],
      "source": [
        "#Early Stopping\n",
        "\n",
        "#Callback a 20 puntos, guardadndo en modelocifar10.h5\n",
        "early_stopping_cb = keras.callbacks.EarlyStopping(patience = 20)\n",
        "model_checkpoint_cb = keras.callbacks.ModelCheckpoint(\"modelocifar10.h5\", save_best_only=True)\n",
        "callbacks=[early_stopping_cb,model_checkpoint_cb]\n",
        "\n"
      ]
    },
    {
      "cell_type": "code",
      "execution_count": null,
      "id": "ff3319a3-b0db-405d-a4bd-8132967396f7",
      "metadata": {
        "id": "ff3319a3-b0db-405d-a4bd-8132967396f7",
        "outputId": "589340b1-999a-4f8a-d392-06e66a9ca883",
        "colab": {
          "base_uri": "https://localhost:8080/"
        }
      },
      "outputs": [
        {
          "output_type": "stream",
          "name": "stdout",
          "text": [
            "Epoch 1/100\n",
            "1407/1407 [==============================] - 27s 14ms/step - loss: 5.1565 - accuracy: 0.1543 - val_loss: 2.1893 - val_accuracy: 0.2028\n",
            "Epoch 2/100\n",
            "   6/1407 [..............................] - ETA: 15s - loss: 2.2470 - accuracy: 0.1667"
          ]
        },
        {
          "output_type": "stream",
          "name": "stderr",
          "text": [
            "/usr/local/lib/python3.10/dist-packages/keras/src/engine/training.py:3103: UserWarning: You are saving your model as an HDF5 file via `model.save()`. This file format is considered legacy. We recommend using instead the native Keras format, e.g. `model.save('my_model.keras')`.\n",
            "  saving_api.save_model(\n"
          ]
        },
        {
          "output_type": "stream",
          "name": "stdout",
          "text": [
            "1407/1407 [==============================] - 21s 15ms/step - loss: 2.1000 - accuracy: 0.2331 - val_loss: 2.0317 - val_accuracy: 0.2506\n",
            "Epoch 3/100\n",
            "1407/1407 [==============================] - 20s 14ms/step - loss: 1.9753 - accuracy: 0.2783 - val_loss: 1.9382 - val_accuracy: 0.2924\n",
            "Epoch 4/100\n",
            "1407/1407 [==============================] - 20s 14ms/step - loss: 1.8988 - accuracy: 0.3047 - val_loss: 1.9079 - val_accuracy: 0.3142\n",
            "Epoch 5/100\n",
            "1407/1407 [==============================] - 21s 15ms/step - loss: 1.8387 - accuracy: 0.3256 - val_loss: 1.8401 - val_accuracy: 0.3326\n",
            "Epoch 6/100\n",
            "1407/1407 [==============================] - 19s 14ms/step - loss: 1.7913 - accuracy: 0.3459 - val_loss: 1.7696 - val_accuracy: 0.3554\n",
            "Epoch 7/100\n",
            "1407/1407 [==============================] - 20s 15ms/step - loss: 1.7432 - accuracy: 0.3632 - val_loss: 1.7090 - val_accuracy: 0.3772\n",
            "Epoch 8/100\n",
            "1407/1407 [==============================] - 19s 14ms/step - loss: 1.7048 - accuracy: 0.3795 - val_loss: 1.6778 - val_accuracy: 0.3922\n",
            "Epoch 9/100\n",
            "1407/1407 [==============================] - 20s 14ms/step - loss: 1.6665 - accuracy: 0.3944 - val_loss: 1.6791 - val_accuracy: 0.3896\n",
            "Epoch 10/100\n",
            "1407/1407 [==============================] - 19s 13ms/step - loss: 1.6415 - accuracy: 0.4051 - val_loss: 1.6920 - val_accuracy: 0.3844\n",
            "Epoch 11/100\n",
            "1407/1407 [==============================] - 20s 15ms/step - loss: 1.6174 - accuracy: 0.4119 - val_loss: 1.6295 - val_accuracy: 0.3980\n",
            "Epoch 12/100\n",
            "1407/1407 [==============================] - 19s 14ms/step - loss: 1.5922 - accuracy: 0.4211 - val_loss: 1.6391 - val_accuracy: 0.4078\n",
            "Epoch 13/100\n",
            "1407/1407 [==============================] - 20s 14ms/step - loss: 1.5679 - accuracy: 0.4305 - val_loss: 1.6051 - val_accuracy: 0.4202\n",
            "Epoch 14/100\n",
            "1407/1407 [==============================] - 20s 14ms/step - loss: 1.5553 - accuracy: 0.4362 - val_loss: 1.6150 - val_accuracy: 0.4186\n",
            "Epoch 15/100\n",
            "1407/1407 [==============================] - 19s 14ms/step - loss: 1.5343 - accuracy: 0.4456 - val_loss: 1.5855 - val_accuracy: 0.4240\n",
            "Epoch 16/100\n",
            "1407/1407 [==============================] - 20s 14ms/step - loss: 1.5150 - accuracy: 0.4519 - val_loss: 1.5998 - val_accuracy: 0.4326\n",
            "Epoch 17/100\n",
            "1407/1407 [==============================] - 19s 14ms/step - loss: 1.5027 - accuracy: 0.4580 - val_loss: 1.5652 - val_accuracy: 0.4476\n",
            "Epoch 18/100\n",
            "1407/1407 [==============================] - 20s 14ms/step - loss: 1.4857 - accuracy: 0.4634 - val_loss: 1.5915 - val_accuracy: 0.4316\n",
            "Epoch 19/100\n",
            "1407/1407 [==============================] - 19s 13ms/step - loss: 1.4729 - accuracy: 0.4670 - val_loss: 1.5820 - val_accuracy: 0.4312\n",
            "Epoch 20/100\n",
            "1407/1407 [==============================] - 20s 14ms/step - loss: 1.4674 - accuracy: 0.4704 - val_loss: 1.6191 - val_accuracy: 0.4218\n",
            "Epoch 21/100\n",
            "1407/1407 [==============================] - 19s 14ms/step - loss: 1.4498 - accuracy: 0.4758 - val_loss: 1.5578 - val_accuracy: 0.4488\n",
            "Epoch 22/100\n",
            "1407/1407 [==============================] - 20s 14ms/step - loss: 1.4377 - accuracy: 0.4797 - val_loss: 1.5356 - val_accuracy: 0.4528\n",
            "Epoch 23/100\n",
            "1407/1407 [==============================] - 19s 14ms/step - loss: 1.4282 - accuracy: 0.4862 - val_loss: 1.5574 - val_accuracy: 0.4378\n",
            "Epoch 24/100\n",
            "1407/1407 [==============================] - 20s 14ms/step - loss: 1.4176 - accuracy: 0.4858 - val_loss: 1.5402 - val_accuracy: 0.4456\n",
            "Epoch 25/100\n",
            "1407/1407 [==============================] - 19s 14ms/step - loss: 1.4060 - accuracy: 0.4917 - val_loss: 1.5178 - val_accuracy: 0.4618\n",
            "Epoch 26/100\n",
            "1407/1407 [==============================] - 20s 14ms/step - loss: 1.3937 - accuracy: 0.4958 - val_loss: 1.5405 - val_accuracy: 0.4480\n",
            "Epoch 27/100\n",
            "1407/1407 [==============================] - 20s 14ms/step - loss: 1.3835 - accuracy: 0.5014 - val_loss: 1.5273 - val_accuracy: 0.4608\n",
            "Epoch 28/100\n",
            "1407/1407 [==============================] - 19s 14ms/step - loss: 1.3732 - accuracy: 0.5042 - val_loss: 1.5260 - val_accuracy: 0.4516\n",
            "Epoch 29/100\n",
            "1407/1407 [==============================] - 20s 14ms/step - loss: 1.3662 - accuracy: 0.5064 - val_loss: 1.5369 - val_accuracy: 0.4652\n",
            "Epoch 30/100\n",
            "1407/1407 [==============================] - 19s 14ms/step - loss: 1.3537 - accuracy: 0.5100 - val_loss: 1.5588 - val_accuracy: 0.4460\n",
            "Epoch 31/100\n",
            "1407/1407 [==============================] - 20s 14ms/step - loss: 1.3473 - accuracy: 0.5145 - val_loss: 1.5441 - val_accuracy: 0.4640\n",
            "Epoch 32/100\n",
            "1407/1407 [==============================] - 20s 14ms/step - loss: 1.3346 - accuracy: 0.5160 - val_loss: 1.5394 - val_accuracy: 0.4668\n",
            "Epoch 33/100\n",
            "1407/1407 [==============================] - 21s 15ms/step - loss: 1.3291 - accuracy: 0.5196 - val_loss: 1.5467 - val_accuracy: 0.4664\n",
            "Epoch 34/100\n",
            "1407/1407 [==============================] - 19s 14ms/step - loss: 1.3222 - accuracy: 0.5220 - val_loss: 1.5354 - val_accuracy: 0.4646\n",
            "Epoch 35/100\n",
            "1407/1407 [==============================] - 21s 15ms/step - loss: 1.3124 - accuracy: 0.5269 - val_loss: 1.5382 - val_accuracy: 0.4614\n",
            "Epoch 36/100\n",
            "1407/1407 [==============================] - 21s 15ms/step - loss: 1.3030 - accuracy: 0.5310 - val_loss: 1.5489 - val_accuracy: 0.4606\n",
            "Epoch 37/100\n",
            "1407/1407 [==============================] - 19s 14ms/step - loss: 1.2926 - accuracy: 0.5330 - val_loss: 1.5839 - val_accuracy: 0.4532\n",
            "Epoch 38/100\n",
            "1407/1407 [==============================] - 20s 15ms/step - loss: 1.2870 - accuracy: 0.5358 - val_loss: 1.5366 - val_accuracy: 0.4606\n",
            "Epoch 39/100\n",
            "1407/1407 [==============================] - 19s 13ms/step - loss: 1.2771 - accuracy: 0.5392 - val_loss: 1.5292 - val_accuracy: 0.4646\n",
            "Epoch 40/100\n",
            "1407/1407 [==============================] - 20s 14ms/step - loss: 1.2684 - accuracy: 0.5424 - val_loss: 1.5692 - val_accuracy: 0.4538\n",
            "Epoch 41/100\n",
            "1407/1407 [==============================] - 19s 14ms/step - loss: 1.2630 - accuracy: 0.5446 - val_loss: 1.5528 - val_accuracy: 0.4564\n",
            "Epoch 42/100\n",
            "1407/1407 [==============================] - 20s 15ms/step - loss: 1.2520 - accuracy: 0.5472 - val_loss: 1.5546 - val_accuracy: 0.4622\n",
            "Epoch 43/100\n",
            "1407/1407 [==============================] - 19s 14ms/step - loss: 1.2458 - accuracy: 0.5508 - val_loss: 1.5674 - val_accuracy: 0.4652\n",
            "Epoch 44/100\n",
            "1407/1407 [==============================] - 20s 14ms/step - loss: 1.2390 - accuracy: 0.5549 - val_loss: 1.5633 - val_accuracy: 0.4644\n",
            "Epoch 45/100\n",
            "1407/1407 [==============================] - 19s 14ms/step - loss: 1.2323 - accuracy: 0.5563 - val_loss: 1.5813 - val_accuracy: 0.4572\n"
          ]
        },
        {
          "output_type": "execute_result",
          "data": {
            "text/plain": [
              "<keras.src.callbacks.History at 0x7f4b28a9af20>"
            ]
          },
          "metadata": {},
          "execution_count": 22
        }
      ],
      "source": [
        "#Entrena a 100 epochs\n",
        "model.fit(X_train,y_train, epochs=100,validation_data=(X_valid,y_valid),callbacks=callbacks)"
      ]
    },
    {
      "cell_type": "code",
      "execution_count": null,
      "id": "4e46a46b-6fb4-4368-9f09-20b9ffa65465",
      "metadata": {
        "id": "4e46a46b-6fb4-4368-9f09-20b9ffa65465",
        "outputId": "98706f44-9ff8-40eb-e2ac-77af7fd4d9cd"
      },
      "outputs": [
        {
          "name": "stdout",
          "output_type": "stream",
          "text": [
            "157/157 [==============================] - 1s 3ms/step - loss: 1.4840 - accuracy: 0.4792\n"
          ]
        },
        {
          "data": {
            "text/plain": [
              "[1.4839645624160767, 0.47920000553131104]"
            ]
          },
          "execution_count": 24,
          "metadata": {},
          "output_type": "execute_result"
        }
      ],
      "source": [
        "#Carga tu callback y evalua\n",
        "model = keras.models.load_model(\"modelocifar10.h5\")\n",
        "model.evaluate(X_valid,y_valid)"
      ]
    },
    {
      "cell_type": "markdown",
      "id": "b2dbf803-0d5a-4f38-846b-d8bf5edb786f",
      "metadata": {
        "id": "b2dbf803-0d5a-4f38-846b-d8bf5edb786f"
      },
      "source": [
        "### 4.-\n",
        "_Mucho mejor, Ahora agreguemos BN y comparemos los tiempos. es mas rapido? Es mejor modelo_"
      ]
    },
    {
      "cell_type": "code",
      "execution_count": null,
      "id": "20ef6081-b7f3-48a7-9ce0-01028e11bff0",
      "metadata": {
        "id": "20ef6081-b7f3-48a7-9ce0-01028e11bff0"
      },
      "outputs": [],
      "source": [
        "#Limpia sesión, semillas a 42\n",
        "keras.backend.clear_session()\n",
        "tf.random.set_seed(42)\n",
        "np.random.seed(42)\n"
      ]
    },
    {
      "cell_type": "code",
      "execution_count": null,
      "id": "667b1b4e-e460-464a-8853-e5c6b2889e17",
      "metadata": {
        "id": "667b1b4e-e460-464a-8853-e5c6b2889e17"
      },
      "outputs": [],
      "source": [
        "#armar modelo secuencial, capas Dense, Batchnorm y Activation\n",
        "model = keras.models.Sequential()\n",
        "model.add(keras.layers.Flatten(input_shape=[32,32,3]))\n",
        "model.add(keras.layers.BatchNormalization())\n",
        "for _ in range(20):\n",
        "    model.add(keras.layers.Dense(100, kernel_initializer=\"he_normal\"))\n",
        "    model.add(keras.layers.BatchNormalization())\n",
        "    model.add(keras.layers.Activation(\"elu\"))\n",
        "model.add(keras.layers.Dense(10, activation=\"softmax\"))"
      ]
    },
    {
      "cell_type": "code",
      "execution_count": null,
      "id": "c026b964-ecae-4085-9700-40d46c09ba84",
      "metadata": {
        "id": "c026b964-ecae-4085-9700-40d46c09ba84",
        "outputId": "32b6ef07-f8f1-4a1b-d12d-070c2d0d2bd0"
      },
      "outputs": [
        {
          "name": "stdout",
          "output_type": "stream",
          "text": [
            "Model: \"sequential\"\n",
            "_________________________________________________________________\n",
            " Layer (type)                Output Shape              Param #   \n",
            "=================================================================\n",
            " flatten (Flatten)           (None, 3072)              0         \n",
            "                                                                 \n",
            " batch_normalization (BatchN  (None, 3072)             12288     \n",
            " ormalization)                                                   \n",
            "                                                                 \n",
            " dense (Dense)               (None, 100)               307300    \n",
            "                                                                 \n",
            " batch_normalization_1 (Batc  (None, 100)              400       \n",
            " hNormalization)                                                 \n",
            "                                                                 \n",
            " activation (Activation)     (None, 100)               0         \n",
            "                                                                 \n",
            " dense_1 (Dense)             (None, 100)               10100     \n",
            "                                                                 \n",
            " batch_normalization_2 (Batc  (None, 100)              400       \n",
            " hNormalization)                                                 \n",
            "                                                                 \n",
            " activation_1 (Activation)   (None, 100)               0         \n",
            "                                                                 \n",
            " dense_2 (Dense)             (None, 100)               10100     \n",
            "                                                                 \n",
            " batch_normalization_3 (Batc  (None, 100)              400       \n",
            " hNormalization)                                                 \n",
            "                                                                 \n",
            " activation_2 (Activation)   (None, 100)               0         \n",
            "                                                                 \n",
            " dense_3 (Dense)             (None, 100)               10100     \n",
            "                                                                 \n",
            " batch_normalization_4 (Batc  (None, 100)              400       \n",
            " hNormalization)                                                 \n",
            "                                                                 \n",
            " activation_3 (Activation)   (None, 100)               0         \n",
            "                                                                 \n",
            " dense_4 (Dense)             (None, 100)               10100     \n",
            "                                                                 \n",
            " batch_normalization_5 (Batc  (None, 100)              400       \n",
            " hNormalization)                                                 \n",
            "                                                                 \n",
            " activation_4 (Activation)   (None, 100)               0         \n",
            "                                                                 \n",
            " dense_5 (Dense)             (None, 100)               10100     \n",
            "                                                                 \n",
            " batch_normalization_6 (Batc  (None, 100)              400       \n",
            " hNormalization)                                                 \n",
            "                                                                 \n",
            " activation_5 (Activation)   (None, 100)               0         \n",
            "                                                                 \n",
            " dense_6 (Dense)             (None, 100)               10100     \n",
            "                                                                 \n",
            " batch_normalization_7 (Batc  (None, 100)              400       \n",
            " hNormalization)                                                 \n",
            "                                                                 \n",
            " activation_6 (Activation)   (None, 100)               0         \n",
            "                                                                 \n",
            " dense_7 (Dense)             (None, 100)               10100     \n",
            "                                                                 \n",
            " batch_normalization_8 (Batc  (None, 100)              400       \n",
            " hNormalization)                                                 \n",
            "                                                                 \n",
            " activation_7 (Activation)   (None, 100)               0         \n",
            "                                                                 \n",
            " dense_8 (Dense)             (None, 100)               10100     \n",
            "                                                                 \n",
            " batch_normalization_9 (Batc  (None, 100)              400       \n",
            " hNormalization)                                                 \n",
            "                                                                 \n",
            " activation_8 (Activation)   (None, 100)               0         \n",
            "                                                                 \n",
            " dense_9 (Dense)             (None, 100)               10100     \n",
            "                                                                 \n",
            " batch_normalization_10 (Bat  (None, 100)              400       \n",
            " chNormalization)                                                \n",
            "                                                                 \n",
            " activation_9 (Activation)   (None, 100)               0         \n",
            "                                                                 \n",
            " dense_10 (Dense)            (None, 100)               10100     \n",
            "                                                                 \n",
            " batch_normalization_11 (Bat  (None, 100)              400       \n",
            " chNormalization)                                                \n",
            "                                                                 \n",
            " activation_10 (Activation)  (None, 100)               0         \n",
            "                                                                 \n",
            " dense_11 (Dense)            (None, 100)               10100     \n",
            "                                                                 \n",
            " batch_normalization_12 (Bat  (None, 100)              400       \n",
            " chNormalization)                                                \n",
            "                                                                 \n",
            " activation_11 (Activation)  (None, 100)               0         \n",
            "                                                                 \n",
            " dense_12 (Dense)            (None, 100)               10100     \n",
            "                                                                 \n",
            " batch_normalization_13 (Bat  (None, 100)              400       \n",
            " chNormalization)                                                \n",
            "                                                                 \n",
            " activation_12 (Activation)  (None, 100)               0         \n",
            "                                                                 \n",
            " dense_13 (Dense)            (None, 100)               10100     \n",
            "                                                                 \n",
            " batch_normalization_14 (Bat  (None, 100)              400       \n",
            " chNormalization)                                                \n",
            "                                                                 \n",
            " activation_13 (Activation)  (None, 100)               0         \n",
            "                                                                 \n",
            " dense_14 (Dense)            (None, 100)               10100     \n",
            "                                                                 \n",
            " batch_normalization_15 (Bat  (None, 100)              400       \n",
            " chNormalization)                                                \n",
            "                                                                 \n",
            " activation_14 (Activation)  (None, 100)               0         \n",
            "                                                                 \n",
            " dense_15 (Dense)            (None, 100)               10100     \n",
            "                                                                 \n",
            " batch_normalization_16 (Bat  (None, 100)              400       \n",
            " chNormalization)                                                \n",
            "                                                                 \n",
            " activation_15 (Activation)  (None, 100)               0         \n",
            "                                                                 \n",
            " dense_16 (Dense)            (None, 100)               10100     \n",
            "                                                                 \n",
            " batch_normalization_17 (Bat  (None, 100)              400       \n",
            " chNormalization)                                                \n",
            "                                                                 \n",
            " activation_16 (Activation)  (None, 100)               0         \n",
            "                                                                 \n",
            " dense_17 (Dense)            (None, 100)               10100     \n",
            "                                                                 \n",
            " batch_normalization_18 (Bat  (None, 100)              400       \n",
            " chNormalization)                                                \n",
            "                                                                 \n",
            " activation_17 (Activation)  (None, 100)               0         \n",
            "                                                                 \n",
            " dense_18 (Dense)            (None, 100)               10100     \n",
            "                                                                 \n",
            " batch_normalization_19 (Bat  (None, 100)              400       \n",
            " chNormalization)                                                \n",
            "                                                                 \n",
            " activation_18 (Activation)  (None, 100)               0         \n",
            "                                                                 \n",
            " dense_19 (Dense)            (None, 100)               10100     \n",
            "                                                                 \n",
            " batch_normalization_20 (Bat  (None, 100)              400       \n",
            " chNormalization)                                                \n",
            "                                                                 \n",
            " activation_19 (Activation)  (None, 100)               0         \n",
            "                                                                 \n",
            " dense_20 (Dense)            (None, 10)                1010      \n",
            "                                                                 \n",
            "=================================================================\n",
            "Total params: 520,498\n",
            "Trainable params: 510,354\n",
            "Non-trainable params: 10,144\n",
            "_________________________________________________________________\n"
          ]
        }
      ],
      "source": [
        "model.summary()"
      ]
    },
    {
      "cell_type": "code",
      "execution_count": null,
      "id": "977a9f6d-834f-44a2-9177-d03231bf5166",
      "metadata": {
        "id": "977a9f6d-834f-44a2-9177-d03231bf5166"
      },
      "outputs": [],
      "source": [
        "#Optimizer nadam pero ahora si con beta1 y beta2\n",
        "optimizer = keras.optimizers.Nadam(learning_rate=5e-4, beta_1=.9, beta_2=.999)\n",
        "\n",
        "model.compile(loss=\"sparse_categorical_crossentropy\",\n",
        "              optimizer=optimizer,\n",
        "              metrics=[\"accuracy\"])"
      ]
    },
    {
      "cell_type": "code",
      "execution_count": null,
      "id": "a2369f97-0ff2-4d76-9ed3-b3d681594b0d",
      "metadata": {
        "id": "a2369f97-0ff2-4d76-9ed3-b3d681594b0d"
      },
      "outputs": [],
      "source": [
        "#Early Sopping\n",
        "early_stopping_cb = keras.callbacks.EarlyStopping(patience = 20)\n",
        "model_checkpoint_cb = keras.callbacks.ModelCheckpoint(\"modelocifar10.h5\", save_best_only=True)\n",
        "callbacks=[early_stopping_cb,model_checkpoint_cb]\n"
      ]
    },
    {
      "cell_type": "code",
      "execution_count": null,
      "id": "72e32ce4-7cae-4c97-850b-a0d00ef4f844",
      "metadata": {
        "id": "72e32ce4-7cae-4c97-850b-a0d00ef4f844",
        "outputId": "2478e3ab-a627-48b2-ff17-06cacf2b9f4d"
      },
      "outputs": [
        {
          "name": "stdout",
          "output_type": "stream",
          "text": [
            "Epoch 1/100\n",
            "1407/1407 [==============================] - 38s 20ms/step - loss: 1.8459 - accuracy: 0.3366 - val_loss: 1.6954 - val_accuracy: 0.3962\n",
            "Epoch 2/100\n",
            "1407/1407 [==============================] - 27s 19ms/step - loss: 1.6694 - accuracy: 0.4059 - val_loss: 1.5648 - val_accuracy: 0.4432\n",
            "Epoch 3/100\n",
            "1407/1407 [==============================] - 26s 19ms/step - loss: 1.6010 - accuracy: 0.4327 - val_loss: 1.5820 - val_accuracy: 0.4352\n",
            "Epoch 4/100\n",
            "1407/1407 [==============================] - 26s 19ms/step - loss: 1.5537 - accuracy: 0.4479 - val_loss: 1.5073 - val_accuracy: 0.4682\n",
            "Epoch 5/100\n",
            "1407/1407 [==============================] - 27s 19ms/step - loss: 1.5070 - accuracy: 0.4664 - val_loss: 1.4506 - val_accuracy: 0.4846\n",
            "Epoch 6/100\n",
            "1407/1407 [==============================] - 27s 19ms/step - loss: 1.4739 - accuracy: 0.4759 - val_loss: 1.4132 - val_accuracy: 0.4950\n",
            "Epoch 7/100\n",
            "1407/1407 [==============================] - 26s 19ms/step - loss: 1.4379 - accuracy: 0.4892 - val_loss: 1.4309 - val_accuracy: 0.4868\n",
            "Epoch 8/100\n",
            "1407/1407 [==============================] - 27s 19ms/step - loss: 1.4098 - accuracy: 0.4998 - val_loss: 1.3904 - val_accuracy: 0.5034\n",
            "Epoch 9/100\n",
            "1407/1407 [==============================] - 26s 19ms/step - loss: 1.3842 - accuracy: 0.5092 - val_loss: 1.3897 - val_accuracy: 0.5058\n",
            "Epoch 10/100\n",
            "1407/1407 [==============================] - 27s 19ms/step - loss: 1.3630 - accuracy: 0.5184 - val_loss: 1.3604 - val_accuracy: 0.5202\n",
            "Epoch 11/100\n",
            "1407/1407 [==============================] - 26s 19ms/step - loss: 1.3414 - accuracy: 0.5245 - val_loss: 1.3677 - val_accuracy: 0.5246\n",
            "Epoch 12/100\n",
            "1407/1407 [==============================] - 26s 19ms/step - loss: 1.3215 - accuracy: 0.5315 - val_loss: 1.3882 - val_accuracy: 0.5040\n",
            "Epoch 13/100\n",
            "1407/1407 [==============================] - 26s 19ms/step - loss: 1.3012 - accuracy: 0.5401 - val_loss: 1.3714 - val_accuracy: 0.5140\n",
            "Epoch 14/100\n",
            "1407/1407 [==============================] - 27s 19ms/step - loss: 1.2835 - accuracy: 0.5442 - val_loss: 1.3514 - val_accuracy: 0.5284\n",
            "Epoch 15/100\n",
            "1407/1407 [==============================] - 27s 19ms/step - loss: 1.2634 - accuracy: 0.5512 - val_loss: 1.3840 - val_accuracy: 0.5198\n",
            "Epoch 16/100\n",
            "1407/1407 [==============================] - 407s 290ms/step - loss: 1.2535 - accuracy: 0.5584 - val_loss: 1.3570 - val_accuracy: 0.5260\n",
            "Epoch 17/100\n",
            "1407/1407 [==============================] - 1035s 736ms/step - loss: 1.2319 - accuracy: 0.5642 - val_loss: 1.3362 - val_accuracy: 0.5244\n",
            "Epoch 18/100\n",
            "1407/1407 [==============================] - 34s 24ms/step - loss: 1.2188 - accuracy: 0.5703 - val_loss: 1.3335 - val_accuracy: 0.5384\n",
            "Epoch 19/100\n",
            "1407/1407 [==============================] - 30s 21ms/step - loss: 1.2057 - accuracy: 0.5720 - val_loss: 1.3354 - val_accuracy: 0.5314\n",
            "Epoch 20/100\n",
            "1407/1407 [==============================] - 29s 21ms/step - loss: 1.1917 - accuracy: 0.5802 - val_loss: 1.3616 - val_accuracy: 0.5322\n",
            "Epoch 21/100\n",
            "1407/1407 [==============================] - 28s 20ms/step - loss: 1.1785 - accuracy: 0.5848 - val_loss: 1.3507 - val_accuracy: 0.5300\n",
            "Epoch 22/100\n",
            "1407/1407 [==============================] - 28s 20ms/step - loss: 1.1603 - accuracy: 0.5896 - val_loss: 1.3564 - val_accuracy: 0.5276\n",
            "Epoch 23/100\n",
            "1407/1407 [==============================] - 28s 20ms/step - loss: 1.1498 - accuracy: 0.5957 - val_loss: 1.3289 - val_accuracy: 0.5348\n",
            "Epoch 24/100\n",
            "1407/1407 [==============================] - 28s 20ms/step - loss: 1.1367 - accuracy: 0.5981 - val_loss: 1.3505 - val_accuracy: 0.5332\n",
            "Epoch 25/100\n",
            "1407/1407 [==============================] - 28s 20ms/step - loss: 1.1279 - accuracy: 0.6032 - val_loss: 1.3341 - val_accuracy: 0.5428\n",
            "Epoch 26/100\n",
            "1407/1407 [==============================] - 28s 20ms/step - loss: 1.1147 - accuracy: 0.6072 - val_loss: 1.3647 - val_accuracy: 0.5266\n",
            "Epoch 27/100\n",
            "1407/1407 [==============================] - 28s 20ms/step - loss: 1.1022 - accuracy: 0.6099 - val_loss: 1.3448 - val_accuracy: 0.5364\n",
            "Epoch 28/100\n",
            "1407/1407 [==============================] - 28s 20ms/step - loss: 1.0937 - accuracy: 0.6164 - val_loss: 1.3610 - val_accuracy: 0.5248\n",
            "Epoch 29/100\n",
            "1407/1407 [==============================] - 39s 28ms/step - loss: 1.0851 - accuracy: 0.6172 - val_loss: 1.3560 - val_accuracy: 0.5384\n",
            "Epoch 30/100\n",
            "1407/1407 [==============================] - 37s 26ms/step - loss: 1.0704 - accuracy: 0.6216 - val_loss: 1.3556 - val_accuracy: 0.5378\n",
            "Epoch 31/100\n",
            "1407/1407 [==============================] - 41s 29ms/step - loss: 1.0612 - accuracy: 0.6262 - val_loss: 1.3862 - val_accuracy: 0.5290\n",
            "Epoch 32/100\n",
            "1407/1407 [==============================] - 29s 20ms/step - loss: 1.0524 - accuracy: 0.6303 - val_loss: 1.3705 - val_accuracy: 0.5284\n",
            "Epoch 33/100\n",
            "1407/1407 [==============================] - 31s 22ms/step - loss: 1.0378 - accuracy: 0.6340 - val_loss: 1.3739 - val_accuracy: 0.5416\n",
            "Epoch 34/100\n",
            "1407/1407 [==============================] - 27s 19ms/step - loss: 1.0322 - accuracy: 0.6367 - val_loss: 1.3630 - val_accuracy: 0.5320\n",
            "Epoch 35/100\n",
            "1407/1407 [==============================] - 27s 19ms/step - loss: 1.0203 - accuracy: 0.6416 - val_loss: 1.3415 - val_accuracy: 0.5384\n",
            "Epoch 36/100\n",
            "1407/1407 [==============================] - 28s 20ms/step - loss: 1.0165 - accuracy: 0.6410 - val_loss: 1.3601 - val_accuracy: 0.5326\n",
            "Epoch 37/100\n",
            "1407/1407 [==============================] - 28s 20ms/step - loss: 1.0027 - accuracy: 0.6473 - val_loss: 1.3578 - val_accuracy: 0.5396\n",
            "Epoch 38/100\n",
            "1407/1407 [==============================] - 27s 19ms/step - loss: 0.9955 - accuracy: 0.6511 - val_loss: 1.3629 - val_accuracy: 0.5414\n",
            "Epoch 39/100\n",
            "1407/1407 [==============================] - 27s 19ms/step - loss: 0.9829 - accuracy: 0.6524 - val_loss: 1.3566 - val_accuracy: 0.5438\n",
            "Epoch 40/100\n",
            "1407/1407 [==============================] - 27s 19ms/step - loss: 0.9719 - accuracy: 0.6571 - val_loss: 1.4066 - val_accuracy: 0.5310\n",
            "Epoch 41/100\n",
            "1407/1407 [==============================] - 27s 19ms/step - loss: 0.9660 - accuracy: 0.6619 - val_loss: 1.3787 - val_accuracy: 0.5388\n",
            "Epoch 42/100\n",
            "1407/1407 [==============================] - 27s 19ms/step - loss: 0.9525 - accuracy: 0.6648 - val_loss: 1.4121 - val_accuracy: 0.5306\n",
            "Epoch 43/100\n",
            "1407/1407 [==============================] - 27s 19ms/step - loss: 0.9521 - accuracy: 0.6670 - val_loss: 1.3865 - val_accuracy: 0.5372\n"
          ]
        },
        {
          "data": {
            "text/plain": [
              "<keras.callbacks.History at 0x7ff5d6ba9160>"
            ]
          },
          "execution_count": 30,
          "metadata": {},
          "output_type": "execute_result"
        }
      ],
      "source": [
        "#Fit el Modelo\n",
        "model.fit(X_train, y_train, epochs=100,\n",
        "          validation_data=(X_valid, y_valid),\n",
        "          callbacks=callbacks)"
      ]
    },
    {
      "cell_type": "code",
      "execution_count": null,
      "id": "d5a5ced0-80d9-4859-93a8-f4a2dada9016",
      "metadata": {
        "id": "d5a5ced0-80d9-4859-93a8-f4a2dada9016",
        "outputId": "7d1d1826-ed29-413f-ac70-c3b8586e228f"
      },
      "outputs": [
        {
          "name": "stdout",
          "output_type": "stream",
          "text": [
            "313/313 [==============================] - 2s 4ms/step - loss: 1.3338 - accuracy: 0.5360\n"
          ]
        },
        {
          "data": {
            "text/plain": [
              "[1.333768606185913, 0.5360000133514404]"
            ]
          },
          "execution_count": 31,
          "metadata": {},
          "output_type": "execute_result"
        }
      ],
      "source": [
        "#Evaluar el Modelo\n",
        "model = keras.models.load_model(\"modelocifar10.h5\")\n",
        "model.evaluate(X_test,y_test)"
      ]
    }
  ],
  "metadata": {
    "kernelspec": {
      "display_name": "Python 3 (ipykernel)",
      "language": "python",
      "name": "python3"
    },
    "language_info": {
      "codemirror_mode": {
        "name": "ipython",
        "version": 3
      },
      "file_extension": ".py",
      "mimetype": "text/x-python",
      "name": "python",
      "nbconvert_exporter": "python",
      "pygments_lexer": "ipython3",
      "version": "3.9.7"
    },
    "colab": {
      "provenance": []
    }
  },
  "nbformat": 4,
  "nbformat_minor": 5
}